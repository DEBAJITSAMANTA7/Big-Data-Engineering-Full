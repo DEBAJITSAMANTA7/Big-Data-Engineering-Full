{
  "cells": [
    {
      "cell_type": "code",
      "execution_count": null,
      "metadata": {
        "colab": {
          "base_uri": "https://localhost:8080/"
        },
        "id": "JJClek4hErGM",
        "outputId": "50aca4fd-72c7-41a2-96ca-69c8a917227e"
      },
      "outputs": [
        {
          "name": "stdout",
          "output_type": "stream",
          "text": [
            "Acceleration Car Tesla\n"
          ]
        }
      ],
      "source": [
        "class Car:\n",
        "  name =\"Tesla\"\n",
        "  def acceleration(self):\n",
        "    print(f\"Acceleration Car {format(self.name)}\")\n",
        "# if __name__='__main__':\n",
        "#   print(Car.__doc___)\n",
        "#         help(Car)\n",
        "car_details=Car()\n",
        "car_details.acceleration() "
      ]
    },
    {
      "cell_type": "markdown",
      "metadata": {},
      "source": [
        "Python is an interpreted language, meaning it processes code line by line at runtime.\n",
        "\n",
        "When you call an instance method like obj.greet(), the Python interpreter automatically translates this into ClassName.greet(obj), where the obj (the instance) is passed as the first argument.\n",
        "\n",
        "\n",
        "python\n",
        "class Student:\n",
        "    def set_name(self, name):  # 'self' is the student (object) using this method\n",
        "        self.name = name       # Save the name to THAT specific student\n",
        "\n",
        "    def say_name(self):\n",
        "        print(f\"My name is {self.name}\")  # Use THAT student's name\n",
        "\n",
        "# Create two students\n",
        "student1 = Student()  # One object\n",
        "student2 = Student()  # Another object\n",
        "\n",
        "# Assign names to each student\n",
        "student1.set_name(\"Debajit\")\n",
        "student2.set_name(\"Rahul\")\n",
        "\n",
        "# Ask each student to say their name\n",
        "student1.say_name()  # Output: My name is Debajit\n",
        "student2.say_name()  # Output: My name is Rahul\n",
        "In this example:\n",
        "\n",
        "student1 is one object and student2 is another.\n",
        "\n",
        "When student1.set_name(\"Debajit\") is called, self refers to student1 and stores \"Debajit\" in student1.name. Similarly, student2.set_name(\"Rahul\") stores \"Rahul\" in student2.name.\n",
        "\n",
        "If we didn’t use self, Python wouldn’t know whether you’re setting the name for student1 or student2."
      ]
    },
    {
      "cell_type": "code",
      "execution_count": null,
      "metadata": {
        "id": "5H1y8x1PkTKh"
      },
      "outputs": [],
      "source": []
    },
    {
      "cell_type": "markdown",
      "metadata": {
        "id": "RmR_Cn7iOEr5"
      },
      "source": [
        "What is The Importance of this **Self** key word in The python  \n",
        "\n",
        "*   self means that car_details Obj want to access the Member variable that's it\n",
        "*   For Other Obj also it will do same thing it just say to the python that\n",
        "*   Obj want to access that object (Extra Security)\n",
        "*   List item\n",
        "*   List item\n",
        "\n",
        "\n",
        "\n"
      ]
    },
    {
      "cell_type": "markdown",
      "metadata": {
        "id": "Tw-pZ-vXSv5b"
      },
      "source": [
        "*Importance of Self (1st Parameter for the Python Code)*\n",
        "\n",
        "> (Important)\n",
        "\n",
        "*   List item\n",
        "*   List item\n",
        "\n",
        "\n",
        "\n"
      ]
    },
    {
      "cell_type": "code",
      "execution_count": 17,
      "metadata": {
        "colab": {
          "base_uri": "https://localhost:8080/"
        },
        "id": "0HY5djWVGqyN",
        "outputId": "eedf6ad0-8911-482c-9d6a-53fc04f4f476"
      },
      "outputs": [
        {
          "name": "stdout",
          "output_type": "stream",
          "text": [
            "Car Color is Red\n"
          ]
        }
      ],
      "source": [
        "class Car:\n",
        "  def car_color(self,color):\n",
        "    self.color=color\n",
        "    return(self.color)\n",
        "\n",
        "audi=Car()\n",
        "print(\"Car Color is {}\".format(audi.car_color('Red')) )  #using method we getting out pub"
      ]
    },
    {
      "cell_type": "code",
      "execution_count": 18,
      "metadata": {
        "colab": {
          "base_uri": "https://localhost:8080/"
        },
        "id": "3CK6ArYEkUQf",
        "outputId": "78af87b9-3fde-4511-d800-f01816945d49"
      },
      "outputs": [
        {
          "name": "stdout",
          "output_type": "stream",
          "text": [
            "I am Constructor but my name is PAllabi\n",
            "My name is DEBAJIT\n"
          ]
        }
      ],
      "source": [
        "class Samanta_family:\n",
        "  name=\"Pallabi The Boss\"\n",
        "  def member_name(self,name):\n",
        "    self.name=name\n",
        "    return (self.name)\n",
        "  # def __init__(self): #default Constructor\n",
        "  #   print(\"I am Constructor\")\n",
        "  def __init__(self,name2): #default Constructor\n",
        "    self.name2=name2\n",
        "    print(\"I am Constructor but my name is {}\".format(self.name2))\n",
        "\n",
        "\n",
        "\n",
        "debajit=Samanta_family(\"PAllabi\") #constructor Calling\n",
        "print(\"My name is {}\".format(debajit.member_name(\"DEBAJIT\")))\n"
      ]
    },
    {
      "cell_type": "markdown",
      "metadata": {
        "id": "2l5b27yIzfRC"
      },
      "source": [
        "**Default Argument With constructor If no paramenter is pass then it just p[rint default Value **\n",
        "\n",
        "1. __del__(): --> is destructor but python doesnot need it to define by user cause python has `Gurbage collection `it automatoically dealloacte method and instace memory"
      ]
    },
    {
      "cell_type": "code",
      "execution_count": 19,
      "metadata": {
        "colab": {
          "base_uri": "https://localhost:8080/"
        },
        "id": "K1HbGKC5zw35",
        "outputId": "d3970c77-b524-471b-d8ae-9ac2c348166d"
      },
      "outputs": [
        {
          "name": "stdout",
          "output_type": "stream",
          "text": [
            "I am Constructor but my name is PAllabi\n",
            "I am Constructor but my name is Deafult Paramenter 😁\n"
          ]
        }
      ],
      "source": [
        "class Samanta_family:\n",
        "  name=\"Pallabi The Boss\"\n",
        "\n",
        "  def __init__(self,name2=\"Deafult Paramenter 😁\"): #default Constructor\n",
        "    self.name2=name2\n",
        "    print(\"I am Constructor but my name is {}\".format(self.name2))\n",
        "\n",
        "\n",
        "\n",
        "debajit=Samanta_family(\"PAllabi\") #constructor Calling\n",
        "\n",
        "\n",
        "debajit2=Samanta_family()  #without Argumnets also Constor also can called\n",
        "\n",
        "\n"
      ]
    },
    {
      "cell_type": "markdown",
      "metadata": {
        "id": "Sujr4rUZ0UNa"
      },
      "source": [
        "Static Memeber\n",
        "\n",
        "\n",
        "\n",
        "1.   --it doesnot use self parameter\n",
        "2.   List item\n",
        "\n",
        "\n",
        "3. doesnot access class variable\n",
        "4. don't need class or instace data\n",
        "\n",
        "5. using @staticmethod decorator we can access it\n",
        "--> is like a function that has some functionlity and extende its functionlity to another function\n",
        "7. --> we can access using class.staticfun_name() and  using obj()❌"
      ]
    },
    {
      "cell_type": "code",
      "execution_count": 20,
      "metadata": {
        "colab": {
          "base_uri": "https://localhost:8080/"
        },
        "id": "CE-84lV40d6U",
        "outputId": "3d422d1e-475e-422c-87dc-97434de706f3"
      },
      "outputs": [
        {
          "name": "stdout",
          "output_type": "stream",
          "text": [
            "I am Constructor but my name is PAllabi\n",
            "I am Constructor but my name is Deafult Paramenter 😁\n",
            "This is static method \n",
            "Static Method\n"
          ]
        }
      ],
      "source": [
        "class Samanta_family:\n",
        "  name=\"Pallabi The Boss\"\n",
        "\n",
        "  def __init__(self,name2=\"Deafult Paramenter 😁\"): #default Constructor\n",
        "    self.name2=name2\n",
        "    print(\"I am Constructor but my name is {}\".format(self.name2))\n",
        "  @staticmethod\n",
        "  def greet(name):\n",
        "    print(name)\n",
        "  def greet1():\n",
        "    print(\"Static Method\")\n",
        "\n",
        "# Obj() declareation\n",
        "debajit=Samanta_family(\"PAllabi\") #constructor Calling\n",
        "\n",
        "\n",
        "debajit2=Samanta_family()  #without Argumnets also Constor also can called\n",
        "\n",
        "Samanta_family.greet(\"This is static method \")\n",
        "Samanta_family.greet1()\n",
        "\n"
      ]
    },
    {
      "cell_type": "markdown",
      "metadata": {
        "id": "dqqiRXdGqaMn"
      },
      "source": [
        "*Inheritance*  \n",
        "\n",
        "1.   Definition: Inheritance allows a class (called a child or derived class) to acquire the properties and methods of another class (called a parent or base class).\n",
        "2. It promotes code reusability and hierarchical classification.\n",
        "\n",
        "\n",
        "-- **Using Child class object  we can access also the method and instance of Parent class **\n"
      ]
    },
    {
      "cell_type": "code",
      "execution_count": 21,
      "metadata": {
        "colab": {
          "base_uri": "https://localhost:8080/"
        },
        "id": "rn_K5rI5rKyE",
        "outputId": "a57a3286-d246-4208-ff6c-481b2f448e04"
      },
      "outputs": [
        {
          "name": "stdout",
          "output_type": "stream",
          "text": [
            "Access Child Class\n",
            "Bonus Calculation done-My Bonus is 70.98 and my Company name is Cognizant \n",
            "\n",
            "Access Parent class \n",
            "Mark Attendence forCognizant \n",
            "\n"
          ]
        }
      ],
      "source": [
        "#Single Inheritance\n",
        "# Parent Class\n",
        "class Employee:\n",
        "  company_name=\"Cognizant\"\n",
        "\n",
        "  def mark_attendence(self):\n",
        "\n",
        "    print(\"Access Parent class \")\n",
        "    print(\"Mark Attendence for{} \\n\".format(self.company_name))\n",
        "# Child Class\n",
        "\n",
        "\n",
        "class Programmer(Employee):\n",
        "  def __init__(self,bonus_percentage):\n",
        "    self.bonus_percentage=bonus_percentage\n",
        "    print(\"Access Child Class\")\n",
        "    print(\"Bonus Calculation done-My Bonus is {} and my Company name is {} \\n\".format(self.bonus_percentage, self.company_name))\n",
        "\n",
        "\n",
        "# main function\n",
        "debajit=Programmer(70.98)\n",
        "debajit.mark_attendence() # access parent class method using child obj.\n"
      ]
    },
    {
      "cell_type": "markdown",
      "metadata": {
        "id": "ebIm4scGLZUF"
      },
      "source": [
        "1. class Employee:               --> parent class Initilization\n",
        "2. class Programmer(Employee):   --> child class with single inheritance"
      ]
    },
    {
      "cell_type": "code",
      "execution_count": 22,
      "metadata": {
        "colab": {
          "base_uri": "https://localhost:8080/"
        },
        "id": "ZPyYPkPmMjV-",
        "outputId": "2b2ac213-be85-46c2-b116-db2fca87d498"
      },
      "outputs": [
        {
          "name": "stdout",
          "output_type": "stream",
          "text": [
            "Access Child Class\n",
            "Bonus Calculation done-My Bonus is 70.98 and my Company name is Cognizant and now acces parent class 2Parent class2 \n",
            "\n",
            "Access Parent class \n",
            "Mark Attendence forCognizant \n",
            "\n",
            "Access Parent class2 \n",
            "My Name is PALLABI My Love\n"
          ]
        }
      ],
      "source": [
        "# Multiple Inheritance\n",
        "\n",
        "# Parent Class\n",
        "class Employee:\n",
        "  company_name=\"Cognizant\"\n",
        "\n",
        "  def mark_attendence(self):\n",
        "\n",
        "    print(\"Access Parent class \")\n",
        "    print(\"Mark Attendence for{} \\n\".format(self.company_name))\n",
        "\n",
        "\n",
        "# Parent Class 2\n",
        "\n",
        "class Parent2:\n",
        "  class_name=\"Parent class2\"\n",
        "\n",
        "  def dummy(self,name):\n",
        "    self.name=name\n",
        "    print(\"Access Parent class2 \")\n",
        "    print(\"My Name is {}\".format(self.name))\n",
        "\n",
        "\n",
        "\n",
        "# Child Class accessing two class continuously\n",
        "\n",
        "\n",
        "class Programmer(Employee, Parent2):\n",
        "  def __init__(self,bonus_percentage):\n",
        "    self.bonus_percentage=bonus_percentage\n",
        "    print(\"Access Child Class\")\n",
        "    print(\"Bonus Calculation done-My Bonus is {} and my Company name is {} and now acces parent class 2{} \\n\".format(self.bonus_percentage, self.company_name, self.class_name))\n",
        "\n",
        "\n",
        "# main function\n",
        "debajit=Programmer(70.98)\n",
        "debajit.mark_attendence() # access parent class method using child obj.\n",
        "\n",
        "# parent2 data access by\n",
        "\n",
        "debajit.dummy(\"PALLABI My Love\")\n"
      ]
    },
    {
      "cell_type": "markdown",
      "metadata": {
        "id": "De1TnZJl1DUg"
      },
      "source": [
        "# Multi Level inheritance"
      ]
    },
    {
      "cell_type": "code",
      "execution_count": 23,
      "metadata": {
        "colab": {
          "base_uri": "https://localhost:8080/"
        },
        "id": "x01yCjDi1BqE",
        "outputId": "3f443609-e286-42b4-97d2-36a3db6c10e5"
      },
      "outputs": [
        {
          "name": "stdout",
          "output_type": "stream",
          "text": [
            "Access Child Class 2\n",
            "Bonus Calculation done-My Bonus is Parent2 Data  and my Company name is Cognizant \n",
            "\n",
            "class 1 \n"
          ]
        }
      ],
      "source": [
        "# Multilevel Inheritance\n",
        "\n",
        "# Parent Class\n",
        "class Employee:\n",
        "  company_name=\"Cognizant\"\n",
        "  class_name1=\"class 1 \"\n",
        "  def mark_attendence(self):\n",
        "\n",
        "    print(\"Access Parent class \")\n",
        "    print(\"Mark Attendence for{} \\n\".format(self.company_name))\n",
        "  def __init__(self,name3,name4):\n",
        "    self.name3=name3\n",
        "    self.name4=name4\n",
        "    print(\"class 1 data access\",self.name3, self.name4)\n",
        "\n",
        "\n",
        "\n",
        "\n",
        "# Child Class accessing two class continuously\n",
        "\n",
        "\n",
        "class Programmer(Employee):\n",
        "  class_name2=\"2nd class\"\n",
        "  def __init__(self,bonus_percentage):\n",
        "    self.bonus_percentage=bonus_percentage\n",
        "    print(\"Access Child Class 2\")\n",
        "    print(\"Bonus Calculation done-My Bonus is {} and my Company name is {} \\n\".format(self.bonus_percentage, self.company_name))\n",
        "\n",
        "\n",
        "\n",
        "\n",
        "\n",
        "\n",
        "# child Class 2\n",
        "\n",
        "class Parent3(Programmer):\n",
        "  class_name2=\"3rd Class\"\n",
        "\n",
        "  def dummy(self,name):\n",
        "    self.name=name\n",
        "    print(\"Access Parent class2 \")\n",
        "    print(\"My Name is {} and 2nd Programmer class data access {}\".format(self.name))\n",
        "\n",
        "\n",
        "# main function\n",
        "# debajit=Programmer(70.98)\n",
        "# debajit.mark_attendence() # access parent class method using child obj.\n",
        "\n",
        "# # parent2 data access by\n",
        "\n",
        "# debajit.dummy(\"PALLABI My Love\")\n",
        "\n",
        "\n",
        "\n",
        "class3_obj=Parent3(\"Parent2 Data \")\n",
        "print(class3_obj.class_name1)\n",
        "\n",
        "# --> here we want to access class1 using class3 but it is derived so all hiercial class need to run\n",
        "# --> so why we pass the value in the class 3 cause in class2  a constrcutor is their with one parameter so for that it needed default parameter\n",
        "\n"
      ]
    },
    {
      "cell_type": "markdown",
      "metadata": {
        "id": "RcIzg291-PWw"
      },
      "source": [
        "# Access Modifiers (VS CODE )\n",
        "\n"
      ]
    },
    {
      "cell_type": "code",
      "execution_count": 24,
      "metadata": {
        "colab": {
          "base_uri": "https://localhost:8080/",
          "height": 413
        },
        "id": "pga0mt73-UA9",
        "outputId": "ecf82e21-ce92-4cc4-96e9-8899bdde4a83"
      },
      "outputs": [
        {
          "name": "stdout",
          "output_type": "stream",
          "text": [
            "Car name is Audi a4\n",
            "Audi\n",
            "Car name is Hundai Creata\n"
          ]
        }
      ],
      "source": [
        "# Availalbe in the VS Code\n",
        "# <!-- ------>Parent class -->\n",
        "class Car:\n",
        "     car_name=\"Farari\"\n",
        "     def car_data(self,name1):\n",
        "          self.name1=name1\n",
        "          print(\"Car name is {}\".format(self.name1))\n",
        "\n",
        "\n",
        "if __name__==\"__main__\":\n",
        " mycar=Car()\n",
        " mycar.car_data(\"Audi a4\")\n",
        "\n",
        "\n",
        "# Child class import\n",
        "\n",
        "# Public access specifier so it can use any where even fror diffen file location also\n",
        "from Public_class import Car\n",
        "# from Public_class import Car as CarClass\n",
        "\n",
        "class Check_car(Car):\n",
        "     car_name=\"Audi\"\n",
        "\n",
        "\n",
        "if __name__==\"__main__\":\n",
        "     debjit_obj=Check_car()\n",
        "     print( debjit_obj.car_name)\n",
        "     debjit_obj.car_data(\"Hundai Creata\")"
      ]
    },
    {
      "cell_type": "markdown",
      "metadata": {
        "id": "BbJMA6g14XQZ"
      },
      "source": []
    },
    {
      "cell_type": "code",
      "execution_count": 25,
      "metadata": {
        "colab": {
          "base_uri": "https://localhost:8080/"
        },
        "id": "fJ6fZOmxOmpf",
        "outputId": "85ec99fb-475a-4c4e-efc0-dfdb651e11b8"
      },
      "outputs": [
        {
          "name": "stdout",
          "output_type": "stream",
          "text": [
            "DEBAJIT\n"
          ]
        }
      ],
      "source": [
        "# protected class methds and instance for that use _memberVariable\n",
        "\n",
        "# --> protected (_VariableNAME) single _ : only aces in class and child class only\n",
        "# --> Private : (__VariableNAME) :__ 2 two underspace can access only within the class\n",
        "\n",
        "\n",
        "class Parent:\n",
        "  # Protected\n",
        "  _name=\"DEBAJIT\"\n",
        "  # Private\n",
        "  # __name=\"DEBAJIT \" #AttributeError: 'Child' object has no attribute '_name'\n",
        "\n",
        "\n",
        "class Child(Parent):\n",
        "  def fun(self):\n",
        "    print(self._name)\n",
        "if __name__==\"__main__\":\n",
        "  obj=Child()\n",
        "  obj.fun()"
      ]
    },
    {
      "cell_type": "markdown",
      "metadata": {
        "id": "2z25rFHb8Wzr"
      },
      "source": [
        "**PolyMorphism**\n",
        "Special methods exist for other operators too, like:\n",
        "\n",
        "1.  __sub__ for subtraction (-)\n",
        "\n",
        "2. __mul__ for multiplication (*)\n",
        "\n",
        "3. __truediv__ for division (/)\n",
        "\n",
        "4. __eq__ for equality checks (==)\n",
        "\n",
        "5. __mod__    --> % mod value\n",
        "\n",
        "6. __lt__, __le__, etc., for comparison (<, <=, etc.)\n",
        "\n",
        "\n",
        "* WE Can not  do Constructor Overloading Like c++ and Java\n",
        "\n",
        "*   List item\n",
        "*   List item\n",
        "\n",
        "\n"
      ]
    },
    {
      "cell_type": "markdown",
      "metadata": {
        "id": "NTiha9PVmPBZ"
      },
      "source": [
        "`Operator Overloading`"
      ]
    },
    {
      "cell_type": "code",
      "execution_count": 26,
      "metadata": {
        "colab": {
          "base_uri": "https://localhost:8080/"
        },
        "id": "fNJuc17rkgZD",
        "outputId": "1c73c15d-4fa9-4e31-9b09-04f46f84f7cf"
      },
      "outputs": [
        {
          "name": "stdout",
          "output_type": "stream",
          "text": [
            "30000\n"
          ]
        }
      ],
      "source": [
        "class Employee:\n",
        "  def __init__(self,salary):\n",
        "    self.salary=salary\n",
        "  # Special Operator overloading method\n",
        "  def __add__(self,other):\n",
        "    # self.other_salary=other_salary\n",
        "    return(self.salary+other.salary)\n",
        "\n",
        "\n",
        "if __name__==\"__main__\":\n",
        "  debajit=Employee(10000)\n",
        "  pallabi=Employee(20000)\n",
        "  print(debajit+pallabi)\n",
        "  # how i will add these two object so for that\n",
        "  # special Method called Add\n"
      ]
    },
    {
      "cell_type": "code",
      "execution_count": 27,
      "metadata": {
        "id": "o6t1VD6nnOwm"
      },
      "outputs": [],
      "source": [
        "# class Employee:\n",
        "#   def __init__(self,salary):\n",
        "#     self.salary=salary\n",
        "#     print(\"This is Single Argument Pass Operator {}\".format(self.salary))\n",
        "#   def __init__(self):\n",
        "#     print(\"Default constructor\")\n",
        "#   def __init__(self,salary,salary2):\n",
        "#     self.salary=salary\n",
        "#     self.salary2=salary2\n",
        "#     print(\"This is Two Argument Pass Operator {} and Another One is {}\".format(self.salary, self.salary2))\n",
        "\n",
        "\n",
        "\n",
        "# if __name__==\"__main__\":\n",
        "#   obj1=Employee()\n",
        "\n"
      ]
    },
    {
      "cell_type": "markdown",
      "metadata": {
        "id": "NqSGJsAX4jYE"
      },
      "source": [
        "# `Method() Overriding     and use of --> super().parent_fun() `"
      ]
    },
    {
      "cell_type": "code",
      "execution_count": 28,
      "metadata": {
        "colab": {
          "base_uri": "https://localhost:8080/"
        },
        "id": "PesGr9fA433o",
        "outputId": "c74350a8-4640-4bb5-fdaf-198cbf22aafe"
      },
      "outputs": [
        {
          "name": "stdout",
          "output_type": "stream",
          "text": [
            "This is the data for the Samanta Child Class Samanta Family \n"
          ]
        }
      ],
      "source": [
        "class Samanta:\n",
        "    _name = \"Samanta Family \"  # Protected Access Specifier\n",
        "\n",
        "    def info(self):\n",
        "        print(\"This is the data for the Samanta Parent Class {}\".format(self._name))\n",
        "\n",
        "\n",
        "class Debajit(Samanta):\n",
        "    def child_info(self):\n",
        "        print(\"Child Class Data: {}\".format(self._name))\n",
        "    def info(self): #Method Overriding\n",
        "        print(\"This is the data for the Samanta Child Class {}\".format(self._name))\n",
        "\n",
        "    # now if i want that both the info function need to run togeather for that we need to use\n",
        "if __name__ == \"__main__\":\n",
        "    debajitobj = Debajit()\n",
        "    debajitobj.info()\n",
        "    # when i call info it automatically trigger the parent class and parent class method will execute but i want\n",
        "    # in child class same method need to execute\n",
        "    # for that same declaration of method need to do in the child class\n",
        "\n",
        "\n",
        "\n",
        "\n",
        "\n"
      ]
    },
    {
      "cell_type": "code",
      "execution_count": 29,
      "metadata": {
        "colab": {
          "base_uri": "https://localhost:8080/"
        },
        "id": "3m9_BQMg7zAM",
        "outputId": "bc5b6489-b810-4330-98a6-aeb2861492cd"
      },
      "outputs": [
        {
          "name": "stdout",
          "output_type": "stream",
          "text": [
            "This is the data for the Samanta Child Class Samanta Family \n",
            "This is the data for the Samanta Parent Class Samanta Family \n"
          ]
        }
      ],
      "source": [
        "# super()  Function\n",
        "#now if i want that both the info function need to run togeather for that we need to use super() Key word  under the child function\n",
        "\n",
        "class Samanta:\n",
        "    _name = \"Samanta Family \"  # Protected Access Specifier\n",
        "\n",
        "    def info(self):\n",
        "        print(\"This is the data for the Samanta Parent Class {}\".format(self._name))\n",
        "\n",
        "\n",
        "class Debajit(Samanta):\n",
        "    def child_info(self):\n",
        "        print(\"Child Class Data: {}\".format(self._name))\n",
        "    def info(self): #Method Overriding\n",
        "        print(\"This is the data for the Samanta Child Class {}\".format(self._name))\n",
        "        super().info()  #--------------------------------------------\n",
        "#  -->\n",
        "if __name__ == \"__main__\":\n",
        "    debajitobj = Debajit()\n",
        "    debajitobj.info()\n",
        "    # when i call info it automatically trigger the parent class and parent class method will execute but i want\n",
        "    # in child class same method need to execute\n",
        "    # for that same declaration of method need to do in the child class\n",
        "\n",
        "\n",
        "\n",
        "\n",
        "\n"
      ]
    },
    {
      "cell_type": "markdown",
      "metadata": {
        "id": "wqHoBJ0KAz2I"
      },
      "source": [
        "`Abstruct Class`\n",
        "\n",
        "1. Abstruct Class provide a Template for child class Method\n",
        "2. We cannot create Object for Abstruct Class\n",
        "3. Concept:\n",
        "\n",
        "\n",
        "*   Abstruct Class: A Class That Consist one or more than it Abstruct Method\n",
        "*   Abstruct Method: A method that diesnot have any defination, act as a template  for child class\n",
        "\n",
        "*   ABCMeta: Is a Class which has the properties of an Abstruct class\n",
        "* we need a decorator` @abstractmethod` for the abstract Class\n"
      ]
    },
    {
      "cell_type": "markdown",
      "metadata": {
        "id": "KFIy46B1IKgH"
      },
      "source": [
        "The `pass` statement in abstract methods acts as a placeholder to avoid syntax errors while indicating no implementation, as the method is meant to be overridden in subclasses.\n",
        "\n"
      ]
    },
    {
      "cell_type": "code",
      "execution_count": null,
      "metadata": {
        "id": "gIxZd-5XFHoI"
      },
      "outputs": [],
      "source": []
    },
    {
      "cell_type": "code",
      "execution_count": 30,
      "metadata": {
        "colab": {
          "base_uri": "https://localhost:8080/"
        },
        "id": "_ES5wfSl-jln",
        "outputId": "c7fbdbdd-6fdd-4a73-cbba-db40a25e65bf"
      },
      "outputs": [
        {
          "name": "stdout",
          "output_type": "stream",
          "text": [
            "This is Car of Audi\n",
            "This is Car of Bmw & Milage is 100\n"
          ]
        }
      ],
      "source": [
        "from abc import ABCMeta, abstractmethod\n",
        "\n",
        "class Car:\n",
        "  @abstractmethod # for abstruct Class we need a decorator\n",
        "  def apply_breaks(self):\n",
        "    pass   #no implementation in the method\n",
        "\n",
        "\n",
        "# need  inheritaion & apply_break is also Overridden\n",
        "\n",
        "class Audi(Car):\n",
        "  def apply_breaks(self):\n",
        "     print(\"This is Car of Audi\")\n",
        "\n",
        "\n",
        "class Bmw(Car):\n",
        "  def apply_breaks(self,milage): #we can take parameter also\n",
        "     self.milage=milage\n",
        "     print(\"This is Car of Bmw & Milage is {}\".format(self.milage))\n",
        "\n",
        "\n",
        "if __name__==\"__main__\":\n",
        "  Audi_car=Audi()\n",
        "  Audi_car.apply_breaks()\n",
        "\n",
        "\n",
        "  Bmw_Car=Bmw()\n",
        "  Bmw_Car.apply_breaks(100)\n",
        "\n"
      ]
    },
    {
      "cell_type": "markdown",
      "metadata": {
        "id": "tLtDbFqrKQQX"
      },
      "source": [
        "`Encapsulation `\n",
        "* Binding the  code and data together in a capsule to hide the\n",
        "complexity of the class\n",
        "* i. Security\n",
        "1. **[Data Hiding & Abstuction]**\n",
        "* Private (only Class)\n",
        "* Protected (only class and its Child)\n",
        "* Public (any where even differn class and diffent location)\n"
      ]
    }
  ],
  "metadata": {
    "colab": {
      "provenance": []
    },
    "kernelspec": {
      "display_name": "Python 3",
      "name": "python3"
    },
    "language_info": {
      "codemirror_mode": {
        "name": "ipython",
        "version": 3
      },
      "file_extension": ".py",
      "mimetype": "text/x-python",
      "name": "python",
      "nbconvert_exporter": "python",
      "pygments_lexer": "ipython3",
      "version": "3.13.3"
    }
  },
  "nbformat": 4,
  "nbformat_minor": 0
}
