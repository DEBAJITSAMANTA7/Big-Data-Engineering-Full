{
 "cells": [
  {
   "cell_type": "code",
   "execution_count": 14,
   "id": "abc0cc19",
   "metadata": {},
   "outputs": [],
   "source": [
    "import pandas as pd\n",
    "import numpy as np"
   ]
  },
  {
   "cell_type": "code",
   "execution_count": 16,
   "id": "81e357c4",
   "metadata": {},
   "outputs": [
    {
     "name": "stdout",
     "output_type": "stream",
     "text": [
      "<bound method Series.info of Zerobase                   [1, 2, 3, 4]\n",
      "twozero base           [10, 20, 30, 40]\n",
      "three zero base    [100, 200, 300, 400]\n",
      "dtype: object>\n"
     ]
    }
   ],
   "source": [
    "value=[[1,2,3,4],[10,20,30,40],[100,200,300,400]]\n",
    "index=['Zerobase','twozero base','three zero base']\n",
    "\n",
    "Series1=pd.Series(data=value,index=index)\n",
    "print(Series1.info)"
   ]
  },
  {
   "cell_type": "code",
   "execution_count": 28,
   "id": "d97e3825",
   "metadata": {},
   "outputs": [
    {
     "name": "stdout",
     "output_type": "stream",
     "text": [
      "[{'DEBAJIT SAMANTA', 'abc'} {'Kolkata', 'Nandigram'}]\n",
      "Index(['name', 'Place'], dtype='object')\n",
      "(2,)\n",
      "<bound method NDFrame.describe of name     {DEBAJIT SAMANTA, abc}\n",
      "Place      {Kolkata, Nandigram}\n",
      "dtype: object>\n"
     ]
    }
   ],
   "source": [
    "# using dict\n",
    "dict={'name':{'DEBAJIT SAMANTA','abc'},'Place':{'Nandigram','Kolkata'}}\n",
    "# print(dict)\n",
    "\n",
    "Series2=pd.Series(dict)\n",
    "print(Series2.values)\n",
    "print(Series2.index)\n",
    "\n",
    "print(Series2.shape)\n",
    "print(Series2.describe)"
   ]
  },
  {
   "cell_type": "markdown",
   "id": "e3159ce4",
   "metadata": {},
   "source": []
  },
  {
   "cell_type": "code",
   "execution_count": 13,
   "id": "26148502",
   "metadata": {},
   "outputs": [
    {
     "name": "stdout",
     "output_type": "stream",
     "text": [
      "Index(['Zerobase', 'twozero base', 'three zero base'], dtype='object')\n",
      "[list([1, 2, 3, 4]) list([10, 20, 30, 40]) list([100, 200, 300, 400])]\n",
      "2\n",
      "2\n"
     ]
    },
    {
     "name": "stderr",
     "output_type": "stream",
     "text": [
      "/tmp/ipykernel_29449/1789973228.py:5: FutureWarning: Series.__getitem__ treating keys as positions is deprecated. In a future version, integer keys will always be treated as labels (consistent with DataFrame behavior). To access a value by position, use `ser.iloc[pos]`\n",
      "  print(Series1[0][1])\n"
     ]
    }
   ],
   "source": [
    "print(Series1.index)\n",
    "print(Series1.values)\n",
    "\n",
    "print(Series1['Zerobase'][1])\n",
    "print(Series1[0][1])"
   ]
  },
  {
   "cell_type": "markdown",
   "id": "b3a9f4b4",
   "metadata": {},
   "source": [
    "Data Frame "
   ]
  },
  {
   "cell_type": "code",
   "execution_count": 40,
   "id": "e550a80d",
   "metadata": {},
   "outputs": [
    {
     "name": "stdout",
     "output_type": "stream",
     "text": [
      "          col1  col2  col3  col4\n",
      "1s value     1     2     3     4\n",
      "2s Value    10    20    30    40\n",
      "3s value   100   200   300   400\n",
      "Index(['1s value', '2s Value', '3s value'], dtype='object')\n",
      "[[  1   2   3   4]\n",
      " [ 10  20  30  40]\n",
      " [100 200 300 400]]\n",
      "(3, 4)\n"
     ]
    }
   ],
   "source": [
    "# df=pd.DataFrame([[1,2,3,4],\n",
    "#                 [10,20,30,40],\n",
    "#                 [100,200,300,400]])\n",
    "df=pd.DataFrame([[1,2,3,4],\n",
    "                [10,20,30,40],\n",
    "                [100,200,300,400]],\n",
    "                index=['1s value','2s Value','3s value'],\n",
    "                columns=['col1','col2','col3','col4'])\n",
    "\n",
    "print(df)\n",
    "\n",
    "print(df.index)\n",
    "print(df.values)\n",
    "\n",
    "print(df.shape)"
   ]
  }
 ],
 "metadata": {
  "kernelspec": {
   "display_name": "Python 3",
   "language": "python",
   "name": "python3"
  },
  "language_info": {
   "codemirror_mode": {
    "name": "ipython",
    "version": 3
   },
   "file_extension": ".py",
   "mimetype": "text/x-python",
   "name": "python",
   "nbconvert_exporter": "python",
   "pygments_lexer": "ipython3",
   "version": "3.12.1"
  }
 },
 "nbformat": 4,
 "nbformat_minor": 5
}
