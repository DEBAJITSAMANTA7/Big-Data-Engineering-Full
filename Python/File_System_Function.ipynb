{
 "cells": [
  {
   "cell_type": "markdown",
   "id": "872fd459",
   "metadata": {},
   "source": [
    "**Through This \"w\" we can create a file ,if it is not exist , if exist then no Issue**\n",
    "and file=open(\"File_name\",\"permission\")\n",
    "*If one file write (\"w\") then we need to close the file otherwiise it will tale memory*"
   ]
  },
  {
   "cell_type": "code",
   "execution_count": 1,
   "id": "6c5b7b90",
   "metadata": {},
   "outputs": [],
   "source": [
    "with open(\"file1.txt\",\"w\") as f:\n",
    " f.write(\"Hello World\")\n",
    "#  when i use \"w\" it means it will overwrite old data means previous data will erase \n"
   ]
  },
  {
   "cell_type": "code",
   "execution_count": 2,
   "id": "80c147e6",
   "metadata": {},
   "outputs": [],
   "source": [
    "with open(\"File1.txt\",\"a\") as f2:\n",
    "    f2.write(\"\\n Append Data \\n\")"
   ]
  },
  {
   "cell_type": "markdown",
   "id": "6df58f26",
   "metadata": {},
   "source": []
  },
  {
   "cell_type": "markdown",
   "id": "a8342323",
   "metadata": {},
   "source": [
    "**Loop The Data & need to close the file after write the data**"
   ]
  },
  {
   "cell_type": "code",
   "execution_count": 3,
   "id": "9a8869cb",
   "metadata": {},
   "outputs": [],
   "source": [
    "f2.close()"
   ]
  },
  {
   "cell_type": "code",
   "execution_count": 4,
   "id": "eeaab2cb",
   "metadata": {},
   "outputs": [
    {
     "name": "stdout",
     "output_type": "stream",
     "text": [
      "Hello World\n",
      "\n",
      " Append Data \n",
      "\n"
     ]
    }
   ],
   "source": [
    "# for Loop in\n",
    "\n",
    "with open(\"file1.txt\",\"r\") as f2:\n",
    "    for file_line in f2:\n",
    "        print(file_line)"
   ]
  },
  {
   "cell_type": "markdown",
   "id": "23bb940c",
   "metadata": {},
   "source": [
    "***Functions***"
   ]
  },
  {
   "cell_type": "code",
   "execution_count": 5,
   "id": "d6d7e4bb",
   "metadata": {},
   "outputs": [
    {
     "name": "stdout",
     "output_type": "stream",
     "text": [
      "DEBAJIT\n"
     ]
    }
   ],
   "source": [
    "def name():\n",
    "    print(\"DEBAJIT\")\n",
    "name()"
   ]
  },
  {
   "cell_type": "markdown",
   "id": "3fba47bb",
   "metadata": {},
   "source": [
    "*Default Parameter Values*"
   ]
  },
  {
   "cell_type": "code",
   "execution_count": 6,
   "id": "137556f2",
   "metadata": {},
   "outputs": [
    {
     "name": "stdout",
     "output_type": "stream",
     "text": [
      "1\n",
      "100\n"
     ]
    }
   ],
   "source": [
    "def Value(num=1):\n",
    "    return(num**2)\n",
    "print(Value())\n",
    "print(Value(10))"
   ]
  },
  {
   "cell_type": "markdown",
   "id": "214d1b1e",
   "metadata": {},
   "source": [
    "*args and **kwargs\n",
    "--Used to pass multiple positional arguments to a function.\n",
    "\n",
    "--Treated as a tuple inside the function."
   ]
  },
  {
   "cell_type": "code",
   "execution_count": 7,
   "id": "c07b2b2f",
   "metadata": {},
   "outputs": [
    {
     "name": "stdout",
     "output_type": "stream",
     "text": [
      "<class 'tuple'>\n",
      "24\n",
      "<class 'dict'>\n",
      "('hello', 1)\n",
      "('World', 2)\n"
     ]
    }
   ],
   "source": [
    "def add(*args):\n",
    "    print(type(args))\n",
    "    print(sum(args))\n",
    "add(1,2,3,5,6,7)\n",
    "\n",
    "# Multiple Keyword arguments not ecactly dict(hello:1})\n",
    "\n",
    "def add2(**kwargs):\n",
    "    print(type(kwargs))\n",
    "    for value in kwargs.items():\n",
    "        print(value)\n",
    "\n",
    "# add2(1=\"Hello\",2=\"World\") ❌\n",
    "# variable name can not start from Number  for key or variable no \" \"\n",
    "add2(hello =1,World =2)"
   ]
  },
  {
   "cell_type": "code",
   "execution_count": 8,
   "id": "848961e1",
   "metadata": {},
   "outputs": [
    {
     "name": "stdout",
     "output_type": "stream",
     "text": [
      "Args: (1, 2, 3)\n",
      "Kwargs: {'name': 'Debajit', 'role': 'Data Engineer'}\n",
      "args: (1, 2, 3)\n",
      "('name', 'Debajit')\n",
      "('role', 'Data Engineer')\n"
     ]
    }
   ],
   "source": [
    "def example(*args, **kwargs):\n",
    "    print(\"Args:\", args)\n",
    "    print(\"Kwargs:\", kwargs)\n",
    "\n",
    "example(1, 2, 3, name=\"Debajit\", role=\"Data Engineer\")\n",
    "\n",
    "\n",
    "\n",
    "\n",
    "def example(*args,**kwargs):\n",
    "    print(\"args:\",args)\n",
    "    for value in kwargs.items():\n",
    "        print(value)\n",
    "\n",
    "example(1, 2, 3, name=\"Debajit\", role=\"Data Engineer\")"
   ]
  },
  {
   "cell_type": "code",
   "execution_count": 2,
   "id": "101362f3",
   "metadata": {},
   "outputs": [
    {
     "name": "stdout",
     "output_type": "stream",
     "text": [
      "[1, 2, 3, 45, 53, 1]\n",
      "[1, 1, 2, 3, 45, 53]\n",
      "{1, 2, 3, 45, 53} <class 'set'>\n"
     ]
    }
   ],
   "source": [
    "li=[1,2,3,45,53,1]\n",
    "print(li)\n",
    "li.sort()\n",
    "print(li)\n",
    "st=set(li)  # unique value\n",
    "print(st,type(st))\n",
    "\n",
    "# tuple\n",
    "tp={1,2,1,3,4,2,1}\n",
    "\n"
   ]
  },
  {
   "cell_type": "markdown",
   "id": "e335d417",
   "metadata": {},
   "source": [
    "*Lambda Function in Python*\n",
    "short, simple tasks.\n",
    "It is written using the lambda keyword and is often used when you need a function for a short period and don’t want to formally define it using def.\n",
    "--> Lambda always single expression , No for loop or anything "
   ]
  },
  {
   "cell_type": "code",
   "execution_count": 1,
   "id": "6bc319a8",
   "metadata": {},
   "outputs": [
    {
     "name": "stdout",
     "output_type": "stream",
     "text": [
      "100\n"
     ]
    }
   ],
   "source": [
    "add_lambda = lambda x, y: x + y\n",
    "\n",
    "addition_value= lambda *args : sum(args)\n",
    "\n",
    "print(addition_value(10,20,30,40))"
   ]
  }
 ],
 "metadata": {
  "kernelspec": {
   "display_name": "Python 3",
   "language": "python",
   "name": "python3"
  },
  "language_info": {
   "codemirror_mode": {
    "name": "ipython",
    "version": 3
   },
   "file_extension": ".py",
   "mimetype": "text/x-python",
   "name": "python",
   "nbconvert_exporter": "python",
   "pygments_lexer": "ipython3",
   "version": "3.13.3"
  }
 },
 "nbformat": 4,
 "nbformat_minor": 5
}
