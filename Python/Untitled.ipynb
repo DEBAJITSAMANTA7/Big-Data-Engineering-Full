{
 "cells": [
  {
   "cell_type": "code",
   "execution_count": null,
   "id": "57f758b5-b6a5-4a8e-85db-723c20fe3670",
   "metadata": {},
   "outputs": [],
   "source": []
  }
 ],
 "metadata": {
  "kernelspec": {
   "display_name": "Python 3 (ipykernel)",
   "language": "python",
   "name": "python3"
  },
  "language_info": {
   "codemirror_mode": {
    "name": "ipython",
    "version": 3
   },
   "file_extension": ".py",
   "mimetype": "text/x-python",
   "name": "python",
   "nbconvert_exporter": "python",
   "pygments_lexer": "ipython3",
   "version": "3.13.1"
  }
 },
 "nbformat": 4,
 "nbformat_minor": 5
}
