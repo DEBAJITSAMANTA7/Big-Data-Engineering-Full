{
 "cells": [
  {
   "cell_type": "markdown",
   "id": "d83594be-137d-4152-b06f-d7f9fe51f803",
   "metadata": {},
   "source": [
    "***Class & Objects in Pythons***"
   ]
  },
  {
   "cell_type": "code",
   "execution_count": null,
   "id": "90554036-08a5-49d5-b992-2a6398e8b930",
   "metadata": {},
   "outputs": [],
   "source": []
  }
 ],
 "metadata": {
  "kernelspec": {
   "display_name": "Python 3 (ipykernel)",
   "language": "python",
   "name": "python3"
  },
  "language_info": {
   "codemirror_mode": {
    "name": "ipython",
    "version": 3
   },
   "file_extension": ".py",
   "mimetype": "text/x-python",
   "name": "python",
   "nbconvert_exporter": "python",
   "pygments_lexer": "ipython3",
   "version": "3.13.3"
  }
 },
 "nbformat": 4,
 "nbformat_minor": 5
}
