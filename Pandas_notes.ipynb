{
  "nbformat": 4,
  "nbformat_minor": 0,
  "metadata": {
    "colab": {
      "provenance": []
    },
    "kernelspec": {
      "name": "python3",
      "display_name": "Python 3"
    },
    "language_info": {
      "name": "python"
    }
  },
  "cells": [
    {
      "cell_type": "code",
      "execution_count": null,
      "metadata": {
        "id": "Z-_vtvXu83HJ"
      },
      "outputs": [],
      "source": [
        "# Panda\n",
        "# pip install pandas\n",
        "import pandas as pd\n",
        "\n",
        "\n"
      ]
    },
    {
      "cell_type": "code",
      "source": [],
      "metadata": {
        "id": "OG80rtcf0vSA"
      },
      "execution_count": null,
      "outputs": []
    },
    {
      "cell_type": "markdown",
      "source": [
        "Series\n",
        " --> in Series 'S' is always Capital Letter\n",
        "\n",
        "\n",
        "```\n",
        " pd.Series(data, index)\n",
        "  --> Data or index should Enter in the form of List\n",
        "  --> Series.value --> data\n",
        "  --> Series.index  -->index value\n",
        "\n",
        "s = pd.Series([100, 200, 300], index=['x', 'y', 'z'])\n",
        "print(s)\n",
        "\n",
        "```\n",
        "\n"
      ],
      "metadata": {
        "id": "2fMhI5mH0Vsa"
      }
    },
    {
      "cell_type": "code",
      "source": [
        "# access Series using List and about Default Indexing\n",
        "my_list=[100,200,300]\n",
        "Series1=pd.Series(my_list)\n",
        "print (Series1)\n",
        "\n",
        "\n",
        "# pd.Series(data=my_list,index=['x','y','z']) or\n",
        "Series2= pd.Series(data=[111,222,333],index=['x','y','z'])\n",
        "\n",
        "# Series Functionalities are :\n",
        "print(Series2.index)    #for Index data Fetch\n",
        "\n",
        "print(Series2.values)\n",
        "\n",
        "\n",
        "print(Series2['y'])  #using index  value\n",
        "print(Series2[2]) #using default sequnce value\n",
        "\n"
      ],
      "metadata": {
        "colab": {
          "base_uri": "https://localhost:8080/"
        },
        "id": "XYKDuqt-0wiX",
        "outputId": "478c8746-1cc5-4b20-8492-36a3db1e9213"
      },
      "execution_count": null,
      "outputs": [
        {
          "output_type": "stream",
          "name": "stdout",
          "text": [
            "0    100\n",
            "1    200\n",
            "2    300\n",
            "dtype: int64\n",
            "Index(['x', 'y', 'z'], dtype='object')\n",
            "[111 222 333]\n",
            "222\n",
            "222\n"
          ]
        },
        {
          "output_type": "stream",
          "name": "stderr",
          "text": [
            "<ipython-input-8-cd8e4b0de652>:14: FutureWarning: Series.__getitem__ treating keys as positions is deprecated. In a future version, integer keys will always be treated as labels (consistent with DataFrame behavior). To access a value by position, use `ser.iloc[pos]`\n",
            "  print(Series2[1])\n"
          ]
        }
      ]
    },
    {
      "cell_type": "code",
      "source": [
        "# Using numpy array also you can add the data\n",
        "import numpy as np\n",
        "\n",
        "arr=np.array([10,15,20])\n",
        "# Series3=pd.Series(arr)\n",
        "\n",
        "index=['a','b','c']\n",
        "Series3=pd.Series(data=arr,index=index)\n",
        "print(Series3[0])"
      ],
      "metadata": {
        "colab": {
          "base_uri": "https://localhost:8080/"
        },
        "id": "tiuPT8DK3shq",
        "outputId": "05cc4947-037f-488c-c2df-0311c1a909ce"
      },
      "execution_count": null,
      "outputs": [
        {
          "output_type": "stream",
          "name": "stdout",
          "text": [
            "10\n"
          ]
        },
        {
          "output_type": "stream",
          "name": "stderr",
          "text": [
            "<ipython-input-12-916082adc6a6>:9: FutureWarning: Series.__getitem__ treating keys as positions is deprecated. In a future version, integer keys will always be treated as labels (consistent with DataFrame behavior). To access a value by position, use `ser.iloc[pos]`\n",
            "  print(Series3[0])\n"
          ]
        }
      ]
    },
    {
      "cell_type": "markdown",
      "source": [
        "Uisng Dict{}"
      ],
      "metadata": {
        "id": "U6M5cK18Nryx"
      }
    },
    {
      "cell_type": "code",
      "source": [
        "my_dict={'a':100,'b':200}\n",
        "Series4=pd.Series(my_dict)\n",
        "print(Series4)"
      ],
      "metadata": {
        "colab": {
          "base_uri": "https://localhost:8080/"
        },
        "id": "Bx5EQNOENw8l",
        "outputId": "6d907dca-7531-47df-9e3a-531345f47f75"
      },
      "execution_count": null,
      "outputs": [
        {
          "output_type": "stream",
          "name": "stdout",
          "text": [
            "a    100\n",
            "b    200\n",
            "dtype: int64\n"
          ]
        }
      ]
    },
    {
      "cell_type": "markdown",
      "source": [
        "Data Frame\n",
        "* 📊 Pandas DataFrame – Short Notes\n",
        "A DataFrame is a two-dimensional labeled data structure (like a table).\n",
        "\n",
        "It consists of rows and columns.\n",
        "\n",
        "Each column in a DataFrame is a Series.\n",
        "\n",
        "`Syntax: pd.DataFrame(data)`\n",
        "\n",
        "Can hold different data types in different columns.\n",
        "\n"
      ],
      "metadata": {
        "id": "MCStCjY1O0g4"
      }
    },
    {
      "cell_type": "code",
      "source": [],
      "metadata": {
        "id": "vWXprgO7OW1s"
      },
      "execution_count": null,
      "outputs": []
    },
    {
      "cell_type": "code",
      "source": [],
      "metadata": {
        "id": "enxSaHvxPW4Y"
      },
      "execution_count": null,
      "outputs": []
    }
  ]
}