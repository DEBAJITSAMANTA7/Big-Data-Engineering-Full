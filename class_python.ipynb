{
 "cells": [
  {
   "cell_type": "code",
   "execution_count": 2,
   "id": "301f3364-8a22-42d2-aa66-c80466d83851",
   "metadata": {},
   "outputs": [
    {
     "name": "stdout",
     "output_type": "stream",
     "text": [
      "<__main__.Student object at 0x000002B6DE6F7CB0>\n"
     ]
    }
   ],
   "source": [
    "class Student: # try to give me of class in capital letter \n",
    "    pass #pass means i do not provide any thing in the class \n",
    "student1 =Student() #HOW WE CRAETED  OBJECT and initiliz\n",
    "print(student1)\n"
   ]
  },
  {
   "cell_type": "code",
   "execution_count": 8,
   "id": "d22e572a-46e4-4dee-9868-29314bcb82d8",
   "metadata": {},
   "outputs": [
    {
     "name": "stdout",
     "output_type": "stream",
     "text": [
      "DEBAJIT SAMANTA A++\n"
     ]
    }
   ],
   "source": [
    "class Student: # try to give me of class in capital letter \n",
    "    name=\"DEBAJIT SAMANTA\"\n",
    "    grade=\"A++\"\n",
    "student1 =Student() #HOW WE CRAETED  OBJECT and initiliz\n",
    "print(student1.name,student1.grade)"
   ]
  },
  {
   "cell_type": "code",
   "execution_count": null,
   "id": "c9860ae4",
   "metadata": {},
   "outputs": [
    {
     "name": "stdout",
     "output_type": "stream",
     "text": [
      "DEBAJIT SAMANTA A++\n"
     ]
    }
   ],
   "source": []
  }
 ],
 "metadata": {
  "kernelspec": {
   "display_name": "Python 3",
   "language": "python",
   "name": "python3"
  },
  "language_info": {
   "codemirror_mode": {
    "name": "ipython",
    "version": 3
   },
   "file_extension": ".py",
   "mimetype": "text/x-python",
   "name": "python",
   "nbconvert_exporter": "python",
   "pygments_lexer": "ipython3",
   "version": "3.13.3"
  }
 },
 "nbformat": 4,
 "nbformat_minor": 5
}
