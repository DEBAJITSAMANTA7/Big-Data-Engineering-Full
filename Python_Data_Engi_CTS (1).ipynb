{
  "cells": [
    {
      "cell_type": "code",
      "execution_count": 2,
      "metadata": {
        "id": "Po72jsg9yvly"
      },
      "outputs": [],
      "source": [
        "import pandas as pd\n"
      ]
    },
    {
      "cell_type": "code",
      "execution_count": 3,
      "metadata": {
        "colab": {
          "base_uri": "https://localhost:8080/"
        },
        "id": "ERNE9QYozEhe",
        "outputId": "f5a5995d-f66a-4d86-882a-64b9f911b0dd"
      },
      "outputs": [
        {
          "name": "stdout",
          "output_type": "stream",
          "text": [
            "<class 'list'>\n",
            "[134, 1, 2]\n",
            "1\n",
            "2\n",
            "3\n",
            "1\n",
            "3\n",
            "134\n",
            "1\n",
            "2\n",
            "67\n",
            "[1, 2, 3, 1, 3, 134, 1, 2, 67]\n"
          ]
        }
      ],
      "source": [
        "ls=[1,2,3,1,3]\n",
        "print(type(ls))\n",
        "ls.append(134)\n",
        "ls.extend([1,2,67,69])\n",
        "ls.pop()\n",
        "print(ls[5::-2])\n",
        "for i in ls:\n",
        "  print(i)\n",
        "\n",
        "print(ls)"
      ]
    },
    {
      "cell_type": "markdown",
      "metadata": {
        "id": "GcdFu5xutJcX"
      },
      "source": []
    },
    {
      "cell_type": "markdown",
      "metadata": {
        "id": "Yt3bH4g7Do7j"
      },
      "source": [
        "# ***Dictionary Syntex => dict={key(any Data Type):values(any Data tyopes)}***"
      ]
    },
    {
      "cell_type": "code",
      "execution_count": 4,
      "metadata": {
        "colab": {
          "base_uri": "https://localhost:8080/"
        },
        "id": "SAAYBdT3DuY3",
        "outputId": "de437063-cac6-4560-ae06-ac901bb362de"
      },
      "outputs": [
        {
          "name": "stdout",
          "output_type": "stream",
          "text": [
            "{'DEBAJIT': 103, 'Pal': 'Hello World'}\n",
            "103\n",
            "Hello World\n",
            "{'DEBAJIT': 103, 'Pal': 'Hello World', 'Subha': 1010, 1: 100.6969}\n"
          ]
        }
      ],
      "source": [
        "dict ={\"DEBAJIT\":103,\"Pal\":\"Hello World\"}\n",
        "print(dict)\n",
        "print(dict.get(\"DEBAJIT\"))\n",
        "print(dict[\"Pal\"]) # we cannot call a dict list etc using () we use [] for print any data\n",
        "\n",
        "\n",
        "# Adding data\n",
        "dict[\"Subha\"]=6910\n",
        "dict[1]=100.6969\n",
        "# update the data\n",
        "dict[\"Subha\"]=1010\n",
        "\n",
        "# pop the data\n",
        "dict[2]=\"dummy\"\n",
        "dict.pop(2) #using key we delect the key value pair\n",
        "dict[3]=\"dummy2\"\n",
        "dict.popitem() #remove last inserted value\n",
        "\n",
        "\n",
        "\n",
        "print(dict)"
      ]
    },
    {
      "cell_type": "code",
      "execution_count": 5,
      "metadata": {
        "colab": {
          "base_uri": "https://localhost:8080/"
        },
        "id": "No4Iu5xh2tfu",
        "outputId": "62354a9f-c525-4e37-d863-1a7c3817270b"
      },
      "outputs": [
        {
          "name": "stdout",
          "output_type": "stream",
          "text": [
            "DEBAJIT --> 103\n",
            "Pal --> Hello World\n",
            "Subha --> 1010\n",
            "1 --> 100.6969\n"
          ]
        }
      ],
      "source": [
        "# looping\n",
        "for key in dict:\n",
        "  print(key, \"-->\", dict[key] )"
      ]
    },
    {
      "cell_type": "code",
      "execution_count": 6,
      "metadata": {
        "colab": {
          "base_uri": "https://localhost:8080/"
        },
        "id": "v14h4zruKjtk",
        "outputId": "35f606a1-f9b5-427d-e414-aa5c6b1ddc88"
      },
      "outputs": [
        {
          "name": "stdout",
          "output_type": "stream",
          "text": [
            "{'name': ['Debajit', 'Samanta', 'PAl'], 'age': [23, 22, 20]}\n",
            "['Samanta', 'PAl']\n",
            "{'name': ['Debajit', 'Samanta', 'PAl'], 'age': [23, 22, 20], 'key': 0}\n",
            "{}\n",
            "{'name': ['Debajit', 'Samanta', 'PAl'], 'age': [23, 22, 20], 'key': 212, 'Country': ['India', 'USA', 'Germany']}\n"
          ]
        }
      ],
      "source": [
        "# new list in a dict\n",
        "dict={\"name\":[\"Debajit\",\"Samanta\",\"PAl\"] ,\"age\":[23,22,20]}\n",
        "print(dict)\n",
        "print(dict[\"name\"][1::]) #sliceing in values over key\n",
        "dict[\"key\"]=0\n",
        "print(dict)\n",
        "\n",
        "\n",
        "dict[\"key\"]+=100\n",
        "dict[\"key\"]+=112\n",
        "\n",
        "\n",
        "# define a empty key for future Data add means values add\n",
        "\n",
        "dict['Country']={}\n",
        "\n",
        "dict[\"Country\"]=[\"India\",\"USA\",\"Germany\"]\n",
        "\n",
        "\n",
        "\n",
        "# define a new empty dict\n",
        "dict123={}\n",
        "print(dict123)\n",
        "print(dict)\n"
      ]
    },
    {
      "cell_type": "markdown",
      "metadata": {
        "id": "I7qLSnkGpYa8"
      },
      "source": []
    },
    {
      "cell_type": "code",
      "execution_count": null,
      "metadata": {
        "id": "0wPcNJ3qpEin"
      },
      "outputs": [],
      "source": []
    },
    {
      "cell_type": "markdown",
      "metadata": {
        "id": "adY7dy6ptSdH"
      },
      "source": []
    },
    {
      "cell_type": "markdown",
      "metadata": {
        "id": "RuT0bj1ttLFx"
      },
      "source": [
        "# ***`Set & Booleans `***"
      ]
    },
    {
      "cell_type": "code",
      "execution_count": null,
      "metadata": {
        "id": "CqcWaIb6BUhR"
      },
      "outputs": [],
      "source": []
    },
    {
      "cell_type": "code",
      "execution_count": null,
      "metadata": {
        "id": "dokm7Q5gBUdq"
      },
      "outputs": [],
      "source": []
    },
    {
      "cell_type": "markdown",
      "metadata": {
        "id": "hma9ZnO57Wnb"
      },
      "source": [
        "Set containg only ***`unique values`*** ***sets do not support indexing or slicing***  Identify by {} And"
      ]
    },
    {
      "cell_type": "code",
      "execution_count": 7,
      "metadata": {
        "colab": {
          "base_uri": "https://localhost:8080/"
        },
        "id": "ffb8skjV8P2c",
        "outputId": "db39cbff-0069-459f-afb5-e6a8d258b34f"
      },
      "outputs": [
        {
          "name": "stdout",
          "output_type": "stream",
          "text": [
            "{1, 2, 3, 69, 23}\n",
            "{1, 2, 3, 23}\n",
            "{2, 3, 23}\n",
            "[2, 3, 23]\n"
          ]
        }
      ],
      "source": [
        "set_data={1,2,3,1,23,3}\n",
        "\n",
        "set_data.add(69)\n",
        "print(set_data)\n",
        "\n",
        "\n",
        "set_data.remove(69)\n",
        "print(set_data)\n",
        "\n",
        "set_data.pop()\n",
        "print(set_data)\n",
        "\n",
        "# print(set_data[1::])\n",
        "\n",
        "# as set doesnot support also sliceing or sorting for best possible output we need to do\n",
        "# the convert into in a List\n",
        "new_list=list(set_data)\n",
        "print(new_list)\n",
        "\n"
      ]
    },
    {
      "cell_type": "markdown",
      "metadata": {
        "id": "HtOWiVVOAy3x"
      },
      "source": [
        "***Tuples --> identify by ()***\n",
        "\n",
        "\n",
        "\n",
        "*   `Order Format`\n",
        "*   `Duplicate & ()`\n",
        "* `  Sliceing and Indexing is their `\n",
        "\n",
        "\n",
        "\n"
      ]
    },
    {
      "cell_type": "markdown",
      "metadata": {
        "id": "7OoT0H-NFBNP"
      },
      "source": []
    },
    {
      "cell_type": "code",
      "execution_count": 8,
      "metadata": {
        "colab": {
          "base_uri": "https://localhost:8080/"
        },
        "id": "ddRlyEPOBEKn",
        "outputId": "03852c7e-02e2-4572-94b1-e866ba92ed43"
      },
      "outputs": [
        {
          "name": "stdout",
          "output_type": "stream",
          "text": [
            "('Hello', 123, 1, 23)\n",
            "('Hello', 23)\n",
            "Hello\n",
            "['Hello', 123, 1, 23]\n"
          ]
        }
      ],
      "source": [
        "# Tuples  -->duplicate Values , but indexing , differnent typles of Data Types can access\n",
        "my_tupl=(\"Hello\",123,1,23)\n",
        "print(my_tupl)\n",
        "print(my_tupl[0::+3])\n",
        "print(my_tupl[0])\n",
        "mylist=list(my_tupl)\n",
        "print(mylist)"
      ]
    },
    {
      "cell_type": "markdown",
      "metadata": {
        "id": "NLpUXAGqFCd5"
      },
      "source": [
        "# `***Condition Statement ***`"
      ]
    },
    {
      "cell_type": "code",
      "execution_count": null,
      "metadata": {
        "colab": {
          "base_uri": "https://localhost:8080/"
        },
        "id": "JcqnoZEXFL_W",
        "outputId": "981134ba-3bb6-41c3-b366-9cc8708cb0b5"
      },
      "outputs": [],
      "source": [
        "str1=int(input())\n",
        "if type(str1)==str:\n",
        "  print(True)\n",
        "elif type(str1)==int:\n",
        "  print(\"Int type\")\n",
        "else :\n",
        "  print(False)\n",
        "\n"
      ]
    },
    {
      "cell_type": "code",
      "execution_count": null,
      "metadata": {
        "colab": {
          "base_uri": "https://localhost:8080/"
        },
        "id": "5DXv9rPmqu_u",
        "outputId": "45ca7de2-c5ac-48e0-dfef-44d124a564bd"
      },
      "outputs": [
        {
          "name": "stdout",
          "output_type": "stream",
          "text": [
            "Data ENgineering \n",
            "D --> This is New Data \n",
            "a --> This is New Data \n",
            "t --> This is New Data \n",
            "a --> This is New Data \n",
            "  --> This is New Data \n",
            "E --> This is New Data \n",
            "N --> This is New Data \n",
            "g --> This is New Data \n",
            "i --> This is New Data \n",
            "n --> This is New Data \n",
            "e --> This is New Data \n",
            "e --> This is New Data \n",
            "r --> This is New Data \n",
            "i --> This is New Data \n",
            "n --> This is New Data \n",
            "g --> This is New Data \n",
            "  --> This is New Data \n"
          ]
        }
      ],
      "source": [
        "# check range for loop\n",
        "str1=str(input())\n",
        "len_str1=len(str1)\n",
        "for i in range (0,len_str1,+1):\n",
        "  print(str1[i],\"-->\",\"This is New Data \")"
      ]
    },
    {
      "cell_type": "code",
      "execution_count": 1,
      "metadata": {
        "colab": {
          "base_uri": "https://localhost:8080/"
        },
        "id": "kdj1fslhoeYX",
        "outputId": "1656b68f-a54d-4ddc-8b52-8aa66e4affce"
      },
      "outputs": [
        {
          "name": "stdout",
          "output_type": "stream",
          "text": [
            " 1 it is a Odd no\n",
            " 2 it is a Even no\n",
            " 3 it is a Odd no\n",
            " 4 it is a Even no\n",
            " 5 it is a Odd no\n",
            " 6 it is a Even no\n",
            " 7 it is a Odd no\n",
            " 8 it is a Even no\n",
            " 9 it is a Odd no\n",
            " 0 it is a Even no\n"
          ]
        }
      ],
      "source": [
        "# Loop Statement\n",
        "# for look even and odd\n",
        "\n",
        "\n",
        "list1=[1,2,3,4,5,6,7,8,9,0]\n",
        "\n",
        "for check_odd_even in list1:\n",
        "  if(check_odd_even%2==0):\n",
        "    # print(check_odd_even,\"Is a Even No \")\n",
        "    print(f\" {check_odd_even} it is a Even no\")\n",
        "  elif (check_odd_even%2!=0):\n",
        "    print(f\" {check_odd_even} it is a Odd no\")\n",
        "    # f \"  {}\" here this f is called string formatting or f string\n"
      ]
    },
    {
      "cell_type": "code",
      "execution_count": null,
      "metadata": {
        "id": "nTFYsefTtbhd"
      },
      "outputs": [],
      "source": [
        "\n",
        "\n"
      ]
    },
    {
      "cell_type": "markdown",
      "metadata": {
        "id": "Wje9p9xokbPV"
      },
      "source": [
        "# ***Intermediatory Python Questions ***\n",
        "\n",
        "```\n",
        "# This is formatted as code\n",
        "```\n",
        "\n"
      ]
    },
    {
      "cell_type": "code",
      "execution_count": null,
      "metadata": {
        "colab": {
          "base_uri": "https://localhost:8080/"
        },
        "id": "OEHAeFTxklIN",
        "outputId": "126c50db-e756-4cc3-9378-9fff1948cc6a"
      },
      "outputs": [
        {
          "data": {
            "text/plain": [
              "2.23606797749979"
            ]
          },
          "execution_count": 2,
          "metadata": {},
          "output_type": "execute_result"
        }
      ],
      "source": [
        "# Packages\n",
        "\n",
        "import math as  mt\n",
        "mt.sqrt(5)"
      ]
    },
    {
      "cell_type": "code",
      "execution_count": null,
      "metadata": {
        "id": "cgaOiGrd7wh-"
      },
      "outputs": [],
      "source": [
        "# for  Concatinate we use + sign\n",
        "name=[\"DEBAJIT\",\"RAM\",\"Shayam\"]\n",
        "# add these data in name2 Data center\n"
      ]
    },
    {
      "cell_type": "markdown",
      "metadata": {
        "id": "kEr4lSHkr_Cu"
      },
      "source": [
        "# **Try and Except --> It's a way to handle errors during program execution without crashing the program. for an example if any error is their then it just run the except: part not terminate the progrum from their **"
      ]
    },
    {
      "cell_type": "code",
      "execution_count": null,
      "metadata": {
        "colab": {
          "base_uri": "https://localhost:8080/"
        },
        "id": "rdZv1k76sDjz",
        "outputId": "ff40d79e-e2c1-483a-a43e-40c537ae3fce"
      },
      "outputs": [
        {
          "name": "stdout",
          "output_type": "stream",
          "text": [
            "Error for data \n",
            "Hello World This time i am out from try and exception \n"
          ]
        }
      ],
      "source": [
        "try :\n",
        "  x=10 / 0\n",
        "except ZeroDivisionError:\n",
        "  print(\"Error for data \")\n",
        "\n",
        "print(\"Hello World This time i am out from try and exception \")"
      ]
    },
    {
      "cell_type": "code",
      "execution_count": null,
      "metadata": {
        "id": "-gjvBwfRtuQm"
      },
      "outputs": [],
      "source": []
    }
  ],
  "metadata": {
    "colab": {
      "provenance": []
    },
    "kernelspec": {
      "display_name": "Python 3",
      "name": "python3"
    },
    "language_info": {
      "codemirror_mode": {
        "name": "ipython",
        "version": 3
      },
      "file_extension": ".py",
      "mimetype": "text/x-python",
      "name": "python",
      "nbconvert_exporter": "python",
      "pygments_lexer": "ipython3",
      "version": "3.13.3"
    }
  },
  "nbformat": 4,
  "nbformat_minor": 0
}
