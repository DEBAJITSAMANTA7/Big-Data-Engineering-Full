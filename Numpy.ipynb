{
  "nbformat": 4,
  "nbformat_minor": 0,
  "metadata": {
    "colab": {
      "provenance": []
    },
    "kernelspec": {
      "name": "python3",
      "display_name": "Python 3"
    },
    "language_info": {
      "name": "python"
    }
  },
  "cells": [
    {
      "cell_type": "markdown",
      "source": [
        "`numpy Basic Only`"
      ],
      "metadata": {
        "id": "k8ix_Cs0Naf3"
      }
    },
    {
      "cell_type": "markdown",
      "source": [
        "\n",
        "\n",
        "```\n",
        "Important Concepts in numpy -->\n",
        "* np.array()  --> to convert it in array\n",
        "\n",
        "*   np.shape() --> find out (row X column) Internal Strcuture\n",
        "```\n",
        "\n",
        "\n"
      ],
      "metadata": {
        "id": "rpl7IYWY8CkK"
      }
    },
    {
      "cell_type": "code",
      "source": [
        "# pip install numpy\n",
        "import numpy as np\n",
        "\n",
        "# Now how to convert a list into a array\n",
        "mylist=[10,20,30]\n",
        "np.array(mylist)  #Now it is act as a array\n",
        "\n",
        "print(type(np.array(mylist)))\n",
        "\n",
        "print(np.array(mylist))\n",
        "\n",
        "# 2 Dimentional Array\n",
        "\n",
        "mylist1=[[10,20,30],[40,50,60],[70,80,90],[100,110,120]]\n",
        "\n",
        "print(np.array(mylist1))\n",
        "val=np.array(mylist1[0][2])\n",
        "print(\"The 1st row and last element is {}\".format(np.array(mylist1[0][2])))"
      ],
      "metadata": {
        "colab": {
          "base_uri": "https://localhost:8080/"
        },
        "id": "quvIYeeCNrbk",
        "outputId": "d7e33484-18f5-4209-e2cb-0700d458ee75"
      },
      "execution_count": null,
      "outputs": [
        {
          "output_type": "stream",
          "name": "stdout",
          "text": [
            "<class 'numpy.ndarray'>\n",
            "[10 20 30]\n",
            "[[ 10  20  30]\n",
            " [ 40  50  60]\n",
            " [ 70  80  90]\n",
            " [100 110 120]]\n",
            "The 1st row and last element is 30\n"
          ]
        }
      ]
    },
    {
      "cell_type": "markdown",
      "source": [
        "* ndarray (n-dimensional array) is the fundamental data structure in the NumPy library for Python\n",
        "* `Homogeneous Data, Multi Dimentional data `"
      ],
      "metadata": {
        "id": "nd_Y4twFfuEK"
      }
    },
    {
      "cell_type": "code",
      "source": [
        "# In NumPy, dtype (data type) is an object that describes the kind of data contained within a NumPy array. 1\n",
        "\n",
        "# May be it is an int , float or anything doesnot matter for now\n",
        "\n",
        "\n",
        "\n",
        "print(np.shape(mylist1))  #it is the way of row X column\n",
        "# using space we can identify the dimention of the data\n",
        "\n",
        "\n"
      ],
      "metadata": {
        "colab": {
          "base_uri": "https://localhost:8080/"
        },
        "id": "ShdU2Npbm9VD",
        "outputId": "e724b0ec-6dc1-41ef-be98-15ec52e6d27a"
      },
      "execution_count": null,
      "outputs": [
        {
          "output_type": "stream",
          "name": "stdout",
          "text": [
            "(4, 3)\n"
          ]
        }
      ]
    },
    {
      "cell_type": "markdown",
      "source": [
        "Numpy Build in methods\n",
        "1. arange (start,end,Increment/Decrement)"
      ],
      "metadata": {
        "id": "wwbpcvWfz8OH"
      }
    },
    {
      "cell_type": "code",
      "source": [
        "np.arange(0,100,+2)"
      ],
      "metadata": {
        "colab": {
          "base_uri": "https://localhost:8080/"
        },
        "id": "-i2esXpWzsQY",
        "outputId": "a4ff30c3-fd63-4402-b2cf-c33addf26f61"
      },
      "execution_count": null,
      "outputs": [
        {
          "output_type": "execute_result",
          "data": {
            "text/plain": [
              "array([ 0,  2,  4,  6,  8, 10, 12, 14, 16, 18, 20, 22, 24, 26, 28, 30, 32,\n",
              "       34, 36, 38, 40, 42, 44, 46, 48, 50, 52, 54, 56, 58, 60, 62, 64, 66,\n",
              "       68, 70, 72, 74, 76, 78, 80, 82, 84, 86, 88, 90, 92, 94, 96, 98])"
            ]
          },
          "metadata": {},
          "execution_count": 11
        }
      ]
    },
    {
      "cell_type": "markdown",
      "source": [
        "Zeros((n X m )) and Ones Method in Py\n",
        "\n",
        "\n",
        "*   as (row X column) Form as we want to give all zero then just need to use this\n",
        "\n",
        "*   \" \" For Same same value we need to once we just give value of 1 in entier table\n",
        "\n",
        "\n",
        "\n",
        "\n",
        "\n"
      ],
      "metadata": {
        "id": "Ayd14W7t0cOw"
      }
    },
    {
      "cell_type": "code",
      "source": [],
      "metadata": {
        "id": "lGJcZhNv1VLo"
      },
      "execution_count": null,
      "outputs": []
    },
    {
      "cell_type": "code",
      "source": [
        "np.zeros((2,3))\n",
        "\n",
        "np.ones((3,5))"
      ],
      "metadata": {
        "colab": {
          "base_uri": "https://localhost:8080/"
        },
        "id": "09gWS8Wu08aF",
        "outputId": "c5f5e19e-bc30-49fd-b68e-d4e3b09c47a1"
      },
      "execution_count": null,
      "outputs": [
        {
          "output_type": "execute_result",
          "data": {
            "text/plain": [
              "array([[1., 1., 1., 1., 1.],\n",
              "       [1., 1., 1., 1., 1.],\n",
              "       [1., 1., 1., 1., 1.]])"
            ]
          },
          "metadata": {},
          "execution_count": 16
        }
      ]
    },
    {
      "cell_type": "code",
      "source": [
        "# getting a Random values\n",
        "# using  np.random.rands(n) n--> as much we need random values\n",
        "\n",
        "print(np.random.randn(5))\n",
        "\n",
        "\n",
        "# for integer value  if we need it for that we need\n",
        "# np.random.randint(start,end)\n",
        "# -->start<end\n",
        "# -- it will give a random value from this range\n",
        "\n",
        "print(np.random.randint(-10,100))\n",
        "\n"
      ],
      "metadata": {
        "colab": {
          "base_uri": "https://localhost:8080/"
        },
        "id": "sHVNrODA1WR3",
        "outputId": "20e6777a-4814-46a9-e070-e750f41b0eb8"
      },
      "execution_count": null,
      "outputs": [
        {
          "output_type": "stream",
          "name": "stdout",
          "text": [
            "[ 1.19544384 -0.59690273  0.80968763 -0.74052173 -0.531744  ]\n",
            "-8\n"
          ]
        }
      ]
    }
  ]
}