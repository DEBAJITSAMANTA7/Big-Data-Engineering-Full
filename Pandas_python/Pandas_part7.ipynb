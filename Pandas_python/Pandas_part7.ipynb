{
 "cells": [
  {
   "cell_type": "code",
   "execution_count": 15,
   "id": "55bb1569",
   "metadata": {},
   "outputs": [
    {
     "name": "stdout",
     "output_type": "stream",
     "text": [
      "        Courses  Discount\n",
      "Index0  Pandas0     12001\n",
      "Index1  Pandas1     12002\n",
      "Index2  Pandas2     12003\n"
     ]
    },
    {
     "name": "stderr",
     "output_type": "stream",
     "text": [
      "C:\\Users\\ACER\\AppData\\Local\\Temp\\ipykernel_15244\\2576542546.py:12: FutureWarning: Passing literal json to 'read_json' is deprecated and will be removed in a future version. To read from a literal string, wrap it in a 'StringIO' object.\n",
      "  df2=pd.read_json(json_data,orient='index')\n"
     ]
    }
   ],
   "source": [
    "import pandas as pd\n",
    "import json\n",
    "\n",
    "jsonStr={ \"Index0\":{\"Courses\":\"Pandas0\",\"Discount\":\"12001\"},\n",
    "         \"Index1\":{\"Courses\":\"Pandas1\",\"Discount\":\"12002\"},\n",
    "         \"Index2\":{\"Courses\":\"Pandas2\",\"Discount\":\"12003\"},\n",
    "\n",
    "\n",
    "}\n",
    "json_data = json.dumps(jsonStr)\n",
    "\n",
    "df2=pd.read_json(json_data,orient='index')\n",
    "print(df2)\n",
    "\n",
    "df2.to_json(\"Output.json\",orient='columns')"
   ]
  },
  {
   "cell_type": "code",
   "execution_count": null,
   "id": "e651b5af",
   "metadata": {},
   "outputs": [],
   "source": []
  },
  {
   "cell_type": "code",
   "execution_count": null,
   "id": "6eee8855",
   "metadata": {},
   "outputs": [
    {
     "name": "stdout",
     "output_type": "stream",
     "text": [
      "     PassengerId  Survived  Pclass  \\\n",
      "0              1         0       3   \n",
      "1              2         1       1   \n",
      "2              3         1       3   \n",
      "3              4         1       1   \n",
      "4              5         0       3   \n",
      "..           ...       ...     ...   \n",
      "886          887         0       2   \n",
      "887          888         1       1   \n",
      "888          889         0       3   \n",
      "889          890         1       1   \n",
      "890          891         0       3   \n",
      "\n",
      "                                                  Name     Sex   Age  SibSp  \\\n",
      "0                              Braund, Mr. Owen Harris    male  22.0      1   \n",
      "1    Cumings, Mrs. John Bradley (Florence Briggs Th...  female  38.0      1   \n",
      "2                               Heikkinen, Miss. Laina  female  26.0      0   \n",
      "3         Futrelle, Mrs. Jacques Heath (Lily May Peel)  female  35.0      1   \n",
      "4                             Allen, Mr. William Henry    male  35.0      0   \n",
      "..                                                 ...     ...   ...    ...   \n",
      "886                              Montvila, Rev. Juozas    male  27.0      0   \n",
      "887                       Graham, Miss. Margaret Edith  female  19.0      0   \n",
      "888           Johnston, Miss. Catherine Helen \"Carrie\"  female   NaN      1   \n",
      "889                              Behr, Mr. Karl Howell    male  26.0      0   \n",
      "890                                Dooley, Mr. Patrick    male  32.0      0   \n",
      "\n",
      "     Parch            Ticket     Fare Cabin Embarked  \n",
      "0        0         A/5 21171   7.2500  None        S  \n",
      "1        0          PC 17599  71.2833   C85        C  \n",
      "2        0  STON/O2. 3101282   7.9250  None        S  \n",
      "3        0            113803  53.1000  C123        S  \n",
      "4        0            373450   8.0500  None        S  \n",
      "..     ...               ...      ...   ...      ...  \n",
      "886      0            211536  13.0000  None        S  \n",
      "887      0            112053  30.0000   B42        S  \n",
      "888      2        W./C. 6607  23.4500  None        S  \n",
      "889      0            111369  30.0000  C148        C  \n",
      "890      0            370376   7.7500  None        Q  \n",
      "\n",
      "[891 rows x 12 columns]\n"
     ]
    }
   ],
   "source": [
    "# fetch data from json file \n",
    "\n",
    "df3=pd.read_json(\"titanic-parquet.json\",lines=True)\n",
    "print(df3)\n",
    "\n",
    "\n"
   ]
  },
  {
   "cell_type": "markdown",
   "id": "1b6c345f",
   "metadata": {},
   "source": [
    "-- csv Comma Seperated Values "
   ]
  },
  {
   "cell_type": "code",
   "execution_count": null,
   "id": "58ff60e1",
   "metadata": {},
   "outputs": [],
   "source": [
    "df_csv="
   ]
  }
 ],
 "metadata": {
  "kernelspec": {
   "display_name": "Python 3",
   "language": "python",
   "name": "python3"
  },
  "language_info": {
   "codemirror_mode": {
    "name": "ipython",
    "version": 3
   },
   "file_extension": ".py",
   "mimetype": "text/x-python",
   "name": "python",
   "nbconvert_exporter": "python",
   "pygments_lexer": "ipython3",
   "version": "3.13.5"
  }
 },
 "nbformat": 4,
 "nbformat_minor": 5
}
