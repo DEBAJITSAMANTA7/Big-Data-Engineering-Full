{
  "cells": [
    {
      "cell_type": "code",
      "execution_count": 1,
      "metadata": {
        "id": "Z-_vtvXu83HJ"
      },
      "outputs": [],
      "source": [
        "# Panda\n",
        "# pip install pandas\n",
        "import pandas as pd\n",
        "# \n"
      ]
    },
    {
      "cell_type": "markdown",
      "metadata": {},
      "source": [
        "1. df.head()       # First 5 rows\n",
        "2. df.tail()       # Last 5 rows\n",
        "3. df.info()       # Summary\n",
        "4. df.describe()   # Stats\n",
        "5. df.shape        # Rows, Columns\n",
        "6. df.columns      # Column names\n",
        "\n",
        "\n",
        "-- Here Series means 1D Data Set like excel Sheet \n",
        "-- Data Frame means Multi dimentional array "
      ]
    },
    {
      "cell_type": "code",
      "execution_count": 2,
      "metadata": {},
      "outputs": [],
      "source": [
        "if 10 > 5:\n",
        "    pass  # This runs, but does nothing\n",
        "else:\n",
        "    print(\"This won't print\")"
      ]
    },
    {
      "cell_type": "code",
      "execution_count": null,
      "metadata": {
        "id": "OG80rtcf0vSA"
      },
      "outputs": [
        {
          "name": "stdout",
          "output_type": "stream",
          "text": [
            "Data is their \n"
          ]
        }
      ],
      "source": [
        "try:\n",
        "     1/0\n",
        "     # pass\n",
        "except Exception:\n",
        "     print(\"Exception is their  \")"
      ]
    },
    {
      "cell_type": "markdown",
      "metadata": {
        "id": "2fMhI5mH0Vsa"
      },
      "source": [
        "Series\n",
        " --> in Series 'S' is always Capital Letter\n",
        "\n",
        "\n",
        "```\n",
        " pd.Series(data, index)\n",
        "  --> Data or index should Enter in the form of List\n",
        "  --> Series.value --> data\n",
        "  --> Series.index  -->index value\n",
        "\n",
        "\n",
        "\n",
        "in panda\n",
        "Series1=pd.Series(data=data,index=index)\n",
        "s = pd.Series([100, 200, 300], index=['x', 'y', 'z'])\n",
        "print(s)\n",
        "\n",
        "```\n",
        "\n"
      ]
    },
    {
      "cell_type": "code",
<<<<<<< HEAD:Pandas_notes.ipynb
      "execution_count": 2,
=======
      "execution_count": 4,
>>>>>>> fe8548b9682f2dc904b746ab48e9cb685425339f:Pandas_python/Pandas_notes.ipynb
      "metadata": {
        "colab": {
          "base_uri": "https://localhost:8080/"
        },
        "id": "XYKDuqt-0wiX",
        "outputId": "478c8746-1cc5-4b20-8492-36a3db1e9213"
      },
      "outputs": [
        {
          "name": "stdout",
          "output_type": "stream",
          "text": [
            "0    100\n",
            "1    200\n",
            "2    300\n",
            "dtype: int64\n",
            "Index(['x', 'y', 'z'], dtype='object')\n",
            "[111 222 333]\n",
            "222\n",
            "333\n"
          ]
        },
        {
          "name": "stderr",
          "output_type": "stream",
          "text": [
<<<<<<< HEAD:Pandas_notes.ipynb
            "C:\\Users\\mrshu\\AppData\\Local\\Temp\\ipykernel_15988\\2102297584.py:17: FutureWarning: Series.__getitem__ treating keys as positions is deprecated. In a future version, integer keys will always be treated as labels (consistent with DataFrame behavior). To access a value by position, use `ser.iloc[pos]`\n",
=======
            "/tmp/ipykernel_1179/2102297584.py:17: FutureWarning: Series.__getitem__ treating keys as positions is deprecated. In a future version, integer keys will always be treated as labels (consistent with DataFrame behavior). To access a value by position, use `ser.iloc[pos]`\n",
>>>>>>> fe8548b9682f2dc904b746ab48e9cb685425339f:Pandas_python/Pandas_notes.ipynb
            "  print(Series2[2]) #using default sequnce value\n"
          ]
        }
      ],
      "source": [
        "# access Series using List and about Default Indexing\n",
        "my_list=[100,200,300]\n",
        "Series1=pd.Series(my_list)\n",
        "print (Series1)\n",
        "\n",
        "\n",
        "# pd.Series(data=my_list,index=['x','y','z']) or\n",
        "Series2= pd.Series(data=[111,222,333],index=['x','y','z'])\n",
        "\n",
        "# Series Functionalities are :\n",
        "print(Series2.index)    #for Index data Fetch\n",
        "\n",
        "print(Series2.values)\n",
        "\n",
        "\n",
        "print(Series2['y'])  #using index  value\n",
        "print(Series2[2]) #using default sequnce value\n",
        "\n"
      ]
    },
    {
      "cell_type": "code",
<<<<<<< HEAD:Pandas_notes.ipynb
      "execution_count": 3,
=======
      "execution_count": null,
>>>>>>> fe8548b9682f2dc904b746ab48e9cb685425339f:Pandas_python/Pandas_notes.ipynb
      "metadata": {
        "colab": {
          "base_uri": "https://localhost:8080/"
        },
        "id": "tiuPT8DK3shq",
        "outputId": "05cc4947-037f-488c-c2df-0311c1a909ce"
      },
      "outputs": [
        {
          "name": "stdout",
          "output_type": "stream",
          "text": [
            "10\n"
          ]
        },
        {
          "name": "stderr",
          "output_type": "stream",
          "text": [
<<<<<<< HEAD:Pandas_notes.ipynb
            "C:\\Users\\mrshu\\AppData\\Local\\Temp\\ipykernel_15988\\4152523018.py:9: FutureWarning: Series.__getitem__ treating keys as positions is deprecated. In a future version, integer keys will always be treated as labels (consistent with DataFrame behavior). To access a value by position, use `ser.iloc[pos]`\n",
=======
            "/tmp/ipykernel_1179/4152523018.py:9: FutureWarning: Series.__getitem__ treating keys as positions is deprecated. In a future version, integer keys will always be treated as labels (consistent with DataFrame behavior). To access a value by position, use `ser.iloc[pos]`\n",
>>>>>>> fe8548b9682f2dc904b746ab48e9cb685425339f:Pandas_python/Pandas_notes.ipynb
            "  print(Series3[0])\n"
          ]
        }
      ],
      "source": [
        "# Using numpy array also you can add the data\n",
        "# using np.array() when using this i can create only 1D array not 2d or anyother\n",
        "\n",
        "import numpy as np\n",
        "\n",
        "arr=np.array([10,15,20])\n",
        "# Series3=pd.Series(arr)\n",
        "\n",
        "index=['a','b','c']\n",
        "Series3=pd.Series(data=arr,index=index)\n",
        "print(Series3[0])"
      ]
    },
    {
      "cell_type": "code",
      "execution_count": null,
      "metadata": {},
      "outputs": [],
      "source": [
        "# using dict\n",
        "dict={'name':{'DEBAJIT SAMANTA','abc'},'Place':{'Nandigram','Kolkata'}}\n",
        "# print(dict)\n",
        "\n",
        "Series2=pd.Series(dict)\n",
        "print(Series2.values)\n",
        "print(Series2.index)"
      ]
    },
    {
      "cell_type": "markdown",
      "metadata": {
        "id": "U6M5cK18Nryx"
      },
      "source": [
        "Uisng Dict{}"
      ]
    },
    {
      "cell_type": "code",
<<<<<<< HEAD:Pandas_notes.ipynb
      "execution_count": 4,
=======
      "execution_count": 6,
>>>>>>> fe8548b9682f2dc904b746ab48e9cb685425339f:Pandas_python/Pandas_notes.ipynb
      "metadata": {
        "colab": {
          "base_uri": "https://localhost:8080/"
        },
        "id": "Bx5EQNOENw8l",
        "outputId": "6d907dca-7531-47df-9e3a-531345f47f75"
      },
      "outputs": [
        {
          "name": "stdout",
          "output_type": "stream",
          "text": [
            "a    100\n",
            "b    200\n",
            "dtype: int64\n"
          ]
        }
      ],
      "source": [
        "my_dict={'a':100,'b':200}\n",
        "Series4=pd.Series(my_dict)\n",
        "print(Series4)"
      ]
    },
    {
      "cell_type": "markdown",
      "metadata": {
        "id": "MCStCjY1O0g4"
      },
      "source": [
        "Data Frame (Takes everything as a form of List[])\n",
        "* 📊 Pandas DataFrame – Short Notes\n",
        "A DataFrame is a two-dimensional labeled data structure (like a table).\n",
        "\n",
        "It consists of rows and columns.\n",
        "\n",
        "Each column in a DataFrame is a Series.\n",
        "\n",
        "`Syntax: pd.DataFrame(data)`\n",
        "\n",
        "Can hold different data types in different columns.\n",
        "\n"
      ]
    },
    {
      "cell_type": "code",
<<<<<<< HEAD:Pandas_notes.ipynb
      "execution_count": 5,
=======
      "execution_count": 7,
>>>>>>> fe8548b9682f2dc904b746ab48e9cb685425339f:Pandas_python/Pandas_notes.ipynb
      "metadata": {
        "id": "vWXprgO7OW1s"
      },
      "outputs": [
        {
          "name": "stdout",
          "output_type": "stream",
          "text": [
            "    0   1   2\n",
            "0  10  20  30\n",
            "1  40  50  60\n",
            "2  70  80  90\n",
            "(3, 3) RangeIndex(start=0, stop=3, step=1) \n",
            " [[10 20 30]\n",
            " [40 50 60]\n",
            " [70 80 90]]\n"
          ]
        }
      ],
      "source": [
        "df=pd.DataFrame([[10,20,30],\n",
        "                 [40,50,60],\n",
        "                 [70,80,90]])\n",
        "print(df)\n",
        "print(df.shape,df.index,\"\\n\", df.values)"
      ]
    },
    {
      "cell_type": "markdown",
      "metadata": {},
      "source": [
        "we can add index (refer as ROW) and column values \n"
      ]
    },
    {
      "cell_type": "code",
<<<<<<< HEAD:Pandas_notes.ipynb
      "execution_count": 6,
=======
      "execution_count": 8,
>>>>>>> fe8548b9682f2dc904b746ab48e9cb685425339f:Pandas_python/Pandas_notes.ipynb
      "metadata": {},
      "outputs": [
        {
          "name": "stdout",
          "output_type": "stream",
          "text": [
            "    1   2   3\n",
            "a  10  20  30\n",
            "b  40  50  60\n",
            "c  70  80  90\n"
          ]
        }
      ],
      "source": [
        "df2=pd.DataFrame([[10,20,30],\n",
        "                 [40,50,60],\n",
        "                 [70,80,90]],\n",
        "                 index=['a','b','c'],\n",
        "                 columns=[1,2,3]\n",
        "                 \n",
        "                 )\n",
        "print(df2)"
      ]
    },
    {
      "cell_type": "code",
      "execution_count": null,
      "metadata": {
        "id": "enxSaHvxPW4Y"
      },
      "outputs": [],
      "source": []
    },
    {
      "cell_type": "code",
      "execution_count": null,
      "metadata": {},
      "outputs": [],
      "source": []
    }
  ],
  "metadata": {
    "colab": {
      "provenance": []
    },
    "kernelspec": {
      "display_name": "Python 3",
      "name": "python3"
    },
    "language_info": {
      "codemirror_mode": {
        "name": "ipython",
        "version": 3
      },
      "file_extension": ".py",
      "mimetype": "text/x-python",
      "name": "python",
      "nbconvert_exporter": "python",
      "pygments_lexer": "ipython3",
      "version": "3.12.1"
    }
  },
  "nbformat": 4,
  "nbformat_minor": 0
}
