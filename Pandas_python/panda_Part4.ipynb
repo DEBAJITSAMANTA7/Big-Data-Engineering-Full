{
 "cells": [
  {
   "cell_type": "markdown",
   "id": "3ed59c2a",
   "metadata": {},
   "source": [
    "Series Operations"
   ]
  },
  {
   "cell_type": "code",
   "execution_count": 1,
   "id": "10161f74",
   "metadata": {},
   "outputs": [],
   "source": [
    "import pandas as pd\n",
    "import numpy  as np"
   ]
  },
  {
   "cell_type": "markdown",
   "id": "58a9e21e",
   "metadata": {},
   "source": []
  },
  {
   "cell_type": "code",
   "execution_count": null,
   "id": "38943b4f",
   "metadata": {},
   "outputs": [],
   "source": []
  },
  {
   "cell_type": "code",
   "execution_count": 2,
   "id": "4cf73db4",
   "metadata": {},
   "outputs": [],
   "source": [
    "weather_df=pd.read_csv(\"weather_2012.csv\")"
   ]
  },
  {
   "cell_type": "code",
   "execution_count": 3,
   "id": "c4e314e3",
   "metadata": {},
   "outputs": [
    {
     "name": "stdout",
     "output_type": "stream",
     "text": [
      "0     4\n",
      "1     4\n",
      "2     7\n",
      "3     6\n",
      "4     7\n",
      "5     9\n",
      "6     7\n",
      "7     7\n",
      "8     9\n",
      "9    15\n",
      "Name: Wind Spd (km/h), dtype: int64\n",
      "0     400\n",
      "1     400\n",
      "2     700\n",
      "3     600\n",
      "4     700\n",
      "5     900\n",
      "6     700\n",
      "7     700\n",
      "8     900\n",
      "9    1500\n",
      "Name: Wind Spd (km/h), dtype: int64\n"
     ]
    }
   ],
   "source": [
    "print(weather_df['Wind Spd (km/h)'].head(10))\n",
    "\n",
    "# we Can directly do operation over the data frame Column using Operator \n",
    "\n",
    "print(weather_df['Wind Spd (km/h)'].head(10)*100)"
   ]
  },
  {
   "cell_type": "markdown",
   "id": "454ab204",
   "metadata": {},
   "source": [
    "Even we can store the data for the result \n"
   ]
  },
  {
   "cell_type": "code",
   "execution_count": null,
   "id": "220b5f22",
   "metadata": {},
   "outputs": [],
   "source": []
  },
  {
   "cell_type": "code",
   "execution_count": null,
   "id": "1ce7e750",
   "metadata": {},
   "outputs": [],
   "source": []
  },
  {
   "cell_type": "code",
   "execution_count": 4,
   "id": "5d58117a",
   "metadata": {},
   "outputs": [
    {
     "name": "stdout",
     "output_type": "stream",
     "text": [
      "0    0.04\n",
      "1    0.04\n",
      "2    0.07\n",
      "3    0.06\n",
      "4    0.07\n",
      "5    0.09\n",
      "6    0.07\n",
      "7    0.07\n",
      "8    0.09\n",
      "9    0.15\n",
      "Name: Wind Spd (km/h), dtype: float64\n"
     ]
    }
   ],
   "source": [
    "new_data=weather_df['Wind Spd (km/h)'].head(10) / 100\n",
    "print(new_data)\n"
   ]
  },
  {
   "cell_type": "code",
   "execution_count": null,
   "id": "907e7328",
   "metadata": {},
   "outputs": [],
   "source": []
  },
  {
   "cell_type": "markdown",
   "id": "bd90ff29",
   "metadata": {},
   "source": [
    "Create New column in The DF, using Operation of Other Two column or more  columns"
   ]
  },
  {
   "cell_type": "code",
   "execution_count": 5,
   "id": "05896693",
   "metadata": {},
   "outputs": [
    {
     "name": "stdout",
     "output_type": "stream",
     "text": [
      "             Date/Time  Temp (C)  Dew Point Temp (C)  Rel Hum (%)  \\\n",
      "0  2012-01-01 00:00:00      -1.8                -3.9           86   \n",
      "1  2012-01-01 01:00:00      -1.8                -3.7           87   \n",
      "2  2012-01-01 02:00:00      -1.8                -3.4           89   \n",
      "3  2012-01-01 03:00:00      -1.5                -3.2           88   \n",
      "4  2012-01-01 04:00:00      -1.5                -3.3           88   \n",
      "5  2012-01-01 05:00:00      -1.4                -3.3           87   \n",
      "6  2012-01-01 06:00:00      -1.5                -3.1           89   \n",
      "7  2012-01-01 07:00:00      -1.4                -3.6           85   \n",
      "8  2012-01-01 08:00:00      -1.4                -3.6           85   \n",
      "9  2012-01-01 09:00:00      -1.3                -3.1           88   \n",
      "\n",
      "   Wind Spd (km/h)  Visibility (km)  Stn Press (kPa)               Weather  \\\n",
      "0                4              8.0           101.24                   Fog   \n",
      "1                4              8.0           101.24                   Fog   \n",
      "2                7              4.0           101.26  Freezing Drizzle,Fog   \n",
      "3                6              4.0           101.27  Freezing Drizzle,Fog   \n",
      "4                7              4.8           101.23                   Fog   \n",
      "5                9              6.4           101.27                   Fog   \n",
      "6                7              6.4           101.29                   Fog   \n",
      "7                7              8.0           101.26                   Fog   \n",
      "8                9              8.0           101.23                   Fog   \n",
      "9               15              4.0           101.20                   Fog   \n",
      "\n",
      "   NewCal_DEB  \n",
      "0        4086  \n",
      "1        4087  \n",
      "2        7089  \n",
      "3        6088  \n",
      "4        7088  \n",
      "5        9087  \n",
      "6        7089  \n",
      "7        7085  \n",
      "8        9085  \n",
      "9       15088  \n"
     ]
    }
   ],
   "source": [
    "weather_df['NewCal_DEB']= weather_df['Wind Spd (km/h)']*1000 +weather_df['Rel Hum (%)']\n",
    "\n",
    "print(weather_df.head(10))"
   ]
  },
  {
   "cell_type": "code",
   "execution_count": null,
   "id": "e97e70a8",
   "metadata": {},
   "outputs": [],
   "source": []
  },
  {
   "cell_type": "markdown",
   "id": "5306031f",
   "metadata": {},
   "source": [
    "1. mainly when we want to use any specific Logic over the code at that time we will use this\n",
    ".apply()  function use in the Program \n",
    "2. Mainly if we want to do any Operation over the column like use function fun() then we should use this function.\n",
    "1. Using this fun() we specifically we need to use any function argumnets with in a DF ."
   ]
  },
  {
   "cell_type": "code",
   "execution_count": 6,
   "id": "7f69978b",
   "metadata": {},
   "outputs": [
    {
     "name": "stdout",
     "output_type": "stream",
     "text": [
      "0     8\n",
      "1     8\n",
      "2    14\n",
      "3    12\n",
      "4    14\n",
      "5    18\n",
      "6    14\n",
      "7    14\n",
      "8    18\n",
      "9    30\n",
      "Name: Wind Spd (km/h), dtype: int64\n"
     ]
    }
   ],
   "source": [
    "def times2 (value):\n",
    "     value=value*2\n",
    "     return (value)\n",
    "\n",
    "check_data= weather_df['Wind Spd (km/h)'].apply(times2)\n",
    "\n",
    "print(check_data.head(10))\n",
    "#hello"
   ]
  },
  {
   "cell_type": "code",
   "execution_count": null,
   "id": "bbd9428e",
   "metadata": {},
   "outputs": [],
   "source": []
  },
  {
   "cell_type": "markdown",
   "id": "b84d6668",
   "metadata": {},
   "source": [
    "\n",
    "### **Pandas `.describe()` Function Overview**\n",
    "- **Purpose:** Provides summary statistics of numerical columns in a DataFrame.\n",
    "- **Stats Provided:** Count, mean, std deviation, min, max, and 25%, 50%, 75% percentiles.\n",
    "- **Usage:** Helps detect missing data, outliers, data spread, and trends in exploratory data analysis.\n"
   ]
  },
  {
   "cell_type": "code",
   "execution_count": 7,
   "id": "84220d78",
   "metadata": {},
   "outputs": [
    {
     "name": "stdout",
     "output_type": "stream",
     "text": [
      "<class 'pandas.core.series.Series'>\n",
      "RangeIndex: 8784 entries, 0 to 8783\n",
      "Series name: Visibility (km)\n",
      "Non-Null Count  Dtype  \n",
      "--------------  -----  \n",
      "8784 non-null   float64\n",
      "dtypes: float64(1)\n",
      "memory usage: 68.8 KB\n",
      "None\n",
      "count    8784.000000\n",
      "mean       27.664447\n",
      "std        12.622688\n",
      "min         0.200000\n",
      "25%        24.100000\n",
      "50%        25.000000\n",
      "75%        25.000000\n",
      "max        48.300000\n",
      "Name: Visibility (km), dtype: float64\n",
      "count    8784.000000\n",
      "mean       67.431694\n",
      "std        16.918881\n",
      "min        18.000000\n",
      "25%        56.000000\n",
      "50%        68.000000\n",
      "75%        81.000000\n",
      "max       100.000000\n",
      "Name: Rel Hum (%), dtype: float64\n"
     ]
    }
   ],
   "source": [
    "print(weather_df['Visibility (km)'].info())\n",
    "\n",
    "print(weather_df['Visibility (km)'].describe())\n",
    "\n",
    "print(weather_df['Rel Hum (%)'].describe())"
   ]
  }
 ],
 "metadata": {
  "kernelspec": {
   "display_name": "Python 3",
   "language": "python",
   "name": "python3"
  },
  "language_info": {
   "codemirror_mode": {
    "name": "ipython",
    "version": 3
   },
   "file_extension": ".py",
   "mimetype": "text/x-python",
   "name": "python",
   "nbconvert_exporter": "python",
   "pygments_lexer": "ipython3",
   "version": "3.13.3"
  }
 },
 "nbformat": 4,
 "nbformat_minor": 5
}
