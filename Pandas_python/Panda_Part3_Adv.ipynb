{
 "cells": [
  {
   "cell_type": "code",
   "execution_count": 1,
   "id": "945709ba",
   "metadata": {},
   "outputs": [],
   "source": [
    "import pandas as pd\n",
    "import numpy as np"
   ]
  },
  {
   "cell_type": "code",
   "execution_count": 2,
   "id": "f6c46e91",
   "metadata": {},
   "outputs": [],
   "source": [
    "weather_df=pd.read_csv(\"weather_2012.csv\")"
   ]
  },
  {
   "cell_type": "code",
   "execution_count": 3,
   "id": "1a3e5a70",
   "metadata": {},
   "outputs": [
    {
     "name": "stdout",
     "output_type": "stream",
     "text": [
      "<class 'pandas.core.frame.DataFrame'>\n",
      "RangeIndex: 8784 entries, 0 to 8783\n",
      "Data columns (total 8 columns):\n",
      " #   Column              Non-Null Count  Dtype  \n",
      "---  ------              --------------  -----  \n",
      " 0   Date/Time           8784 non-null   object \n",
      " 1   Temp (C)            8784 non-null   float64\n",
      " 2   Dew Point Temp (C)  8784 non-null   float64\n",
      " 3   Rel Hum (%)         8784 non-null   int64  \n",
      " 4   Wind Spd (km/h)     8784 non-null   int64  \n",
      " 5   Visibility (km)     8784 non-null   float64\n",
      " 6   Stn Press (kPa)     8784 non-null   float64\n",
      " 7   Weather             8784 non-null   object \n",
      "dtypes: float64(4), int64(2), object(2)\n",
      "memory usage: 549.1+ KB\n",
      "None\n"
     ]
    }
   ],
   "source": [
    "# print(weather_df.head(10))\n",
    "print(weather_df.info())"
   ]
  },
  {
   "cell_type": "markdown",
   "id": "dea0ccb1",
   "metadata": {},
   "source": [
    "Now Extract a column (weather column) from weathr_df Data Frame  and store a indigenious independent colun name 'col'\n",
    "1. Select Only One single Column\n",
    "2. col=data_Frame['column_name']\n",
    "3. Single [] for one column in the Data frame "
   ]
  },
  {
   "cell_type": "code",
   "execution_count": null,
   "id": "47090b0b",
   "metadata": {},
   "outputs": [
    {
     "name": "stdout",
     "output_type": "stream",
     "text": [
      "0                     Fog\n",
      "1                     Fog\n",
      "2    Freezing Drizzle,Fog\n",
      "3    Freezing Drizzle,Fog\n",
      "4                     Fog\n",
      "5                     Fog\n",
      "6                     Fog\n",
      "7                     Fog\n",
      "8                     Fog\n",
      "9                     Fog\n",
      "Name: Weather, dtype: object\n"
     ]
    }
   ],
   "source": [
    "col=weather_df['Weather']\n",
    "print(col.head(10))\n",
    "#hello"
   ]
  },
  {
   "cell_type": "markdown",
   "id": "d4868ff0",
   "metadata": {},
   "source": [
    "If i want to go with multiple column from the data frame fetch --> [[ ]]  Double 3rd Bracket"
   ]
  },
  {
   "cell_type": "code",
   "execution_count": 5,
   "id": "6962e411",
   "metadata": {},
   "outputs": [
    {
     "name": "stdout",
     "output_type": "stream",
     "text": [
      "                Date/Time  Temp (C)\n",
      "0     2012-01-01 00:00:00      -1.8\n",
      "1     2012-01-01 01:00:00      -1.8\n",
      "2     2012-01-01 02:00:00      -1.8\n",
      "3     2012-01-01 03:00:00      -1.5\n",
      "4     2012-01-01 04:00:00      -1.5\n",
      "...                   ...       ...\n",
      "8779  2012-12-31 19:00:00       0.1\n",
      "8780  2012-12-31 20:00:00       0.2\n",
      "8781  2012-12-31 21:00:00      -0.5\n",
      "8782  2012-12-31 22:00:00      -0.2\n",
      "8783  2012-12-31 23:00:00       0.0\n",
      "\n",
      "[8784 rows x 2 columns]\n",
      "<class 'pandas.core.frame.DataFrame'>\n",
      "RangeIndex: 8784 entries, 0 to 8783\n",
      "Data columns (total 2 columns):\n",
      " #   Column     Non-Null Count  Dtype  \n",
      "---  ------     --------------  -----  \n",
      " 0   Date/Time  8784 non-null   object \n",
      " 1   Temp (C)   8784 non-null   float64\n",
      "dtypes: float64(1), object(1)\n",
      "memory usage: 137.4+ KB\n",
      "None\n"
     ]
    }
   ],
   "source": [
    "# print(weather_df.info())\n",
    "two_cols=weather_df[['Date/Time','Temp (C)']]\n",
    "print(two_cols)\n",
    "print(two_cols.info())"
   ]
  },
  {
   "cell_type": "code",
   "execution_count": null,
   "id": "5be12398",
   "metadata": {},
   "outputs": [],
   "source": []
  },
  {
   "cell_type": "markdown",
   "id": "a56ffa54",
   "metadata": {},
   "source": [
    "Slicing of a data frame and even Specific Column data fetch from the table "
   ]
  },
  {
   "cell_type": "code",
   "execution_count": 6,
   "id": "851f158a",
   "metadata": {},
   "outputs": [
    {
     "name": "stdout",
     "output_type": "stream",
     "text": [
      "             Date/Time  Temp (C)\n",
      "0  2012-01-01 00:00:00      -1.8\n",
      "2  2012-01-01 02:00:00      -1.8\n",
      "4  2012-01-01 04:00:00      -1.5\n",
      "6  2012-01-01 06:00:00      -1.5\n",
      "8  2012-01-01 08:00:00      -1.4\n",
      "             Date/Time  Temp (C)\n",
      "0  2012-01-01 00:00:00      -1.8\n",
      "2  2012-01-01 02:00:00      -1.8\n",
      "4  2012-01-01 04:00:00      -1.5\n",
      "6  2012-01-01 06:00:00      -1.5\n",
      "8  2012-01-01 08:00:00      -1.4\n"
     ]
    }
   ],
   "source": [
    "print(two_cols[0:10:+2])\n",
    "print(two_cols[0:10:+2])\n"
   ]
  },
  {
   "cell_type": "code",
   "execution_count": null,
   "id": "d3c7df0e",
   "metadata": {},
   "outputs": [],
   "source": []
  }
 ],
 "metadata": {
  "kernelspec": {
   "display_name": "Python 3",
   "language": "python",
   "name": "python3"
  },
  "language_info": {
   "codemirror_mode": {
    "name": "ipython",
    "version": 3
   },
   "file_extension": ".py",
   "mimetype": "text/x-python",
   "name": "python",
   "nbconvert_exporter": "python",
   "pygments_lexer": "ipython3",
   "version": "3.13.3"
  }
 },
 "nbformat": 4,
 "nbformat_minor": 5
}
