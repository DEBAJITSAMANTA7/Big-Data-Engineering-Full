{
 "cells": [
  {
   "cell_type": "code",
   "execution_count": 17,
   "id": "680334f7",
   "metadata": {},
   "outputs": [],
   "source": [
    "import pandas as pd\n",
    "import numpy as np\n",
    "weather_df=pd.read_csv(\"weather_2012.csv\")"
   ]
  },
  {
   "cell_type": "code",
   "execution_count": null,
   "id": "f3866fa1",
   "metadata": {},
   "outputs": [],
   "source": []
  },
  {
   "cell_type": "markdown",
   "id": "9e126775",
   "metadata": {},
   "source": [
    "# Pivot Table in Pandas\n",
    "\n",
    "A **pivot table** is a data summarization tool used to reorganize and aggregate data, which is extremely useful for analyzing large datasets.\n",
    "\n",
    "## Creating a Pivot Table in Pandas\n",
    "\n",
    "To create a pivot table in Pandas, we use the `pivot_table()` function.\n",
    "\n",
    "### Syntax:\n",
    "```python\n",
    "pandas.pivot_table(data, \n",
    "                   values=None, \n",
    "                   index=None, \n",
    "                   columns=None, \n",
    "                   aggfunc='mean', \n",
    "                   fill_value=None, \n",
    "                   margins=False, \n",
    "                   margins_name='All')\n"
   ]
  },
  {
   "cell_type": "code",
   "execution_count": 18,
   "id": "b9b9e0aa",
   "metadata": {},
   "outputs": [
    {
     "name": "stdout",
     "output_type": "stream",
     "text": [
      "     A    B  C  D\n",
      "0  foo  one  x  1\n",
      "1  foo  one  y  3\n",
      "2  foo  two  x  2\n",
      "3  bar  two  y  5\n",
      "4  bar  one  x  4\n",
      "5  bar  one  y  1\n"
     ]
    }
   ],
   "source": [
    "data={\n",
    "     'A': ['foo','foo','foo','bar','bar','bar'],\n",
    "     'B': ['one','one','two','two','one','one'],\n",
    "     'C': ['x','y','x','y','x','y'],\n",
    "     'D': [1,3,2,5,4,1]\n",
    "     }\n",
    "df=pd.DataFrame(data)\n",
    "\n",
    "# print(df.describe())\n",
    "print(df)"
   ]
  },
  {
   "cell_type": "code",
   "execution_count": 19,
   "id": "cd0987e3",
   "metadata": {},
   "outputs": [
    {
     "name": "stdout",
     "output_type": "stream",
     "text": [
      "C    x  y\n",
      "A        \n",
      "bar  4  6\n",
      "foo  3  3\n"
     ]
    },
    {
     "name": "stderr",
     "output_type": "stream",
     "text": [
      "C:\\Users\\mrshu\\AppData\\Local\\Temp\\ipykernel_11780\\2624656864.py:2: FutureWarning: The provided callable <function sum at 0x0000015842E5C360> is currently using DataFrameGroupBy.sum. In a future version of pandas, the provided callable will be used directly. To keep current behavior pass the string \"sum\" instead.\n",
      "  pivot_df = pd.pivot_table(\n"
     ]
    }
   ],
   "source": [
    "#pivot table mainly do some kind of aggregate Operation  top of the table that is the use for the pivot table \n",
    "pivot_df = pd.pivot_table(\n",
    "    df,\n",
    "    values='D',\n",
    "    index='A',\n",
    "    columns='C',\n",
    "    aggfunc=np.sum\n",
    ")\n",
    "print(pivot_df)\n"
   ]
  },
  {
   "cell_type": "markdown",
   "id": "7388c2d3",
   "metadata": {},
   "source": [
    "what is mean temp recorded by month"
   ]
  },
  {
   "cell_type": "code",
   "execution_count": null,
   "id": "50772820",
   "metadata": {},
   "outputs": [
    {
     "name": "stdout",
     "output_type": "stream",
     "text": [
      "0                        Fog\n",
      "1                        Fog\n",
      "2       Freezing Drizzle,Fog\n",
      "3       Freezing Drizzle,Fog\n",
      "4                        Fog\n",
      "                ...         \n",
      "8779                    Snow\n",
      "8780                    Snow\n",
      "8781                    Snow\n",
      "8782                    Snow\n",
      "8783                    Snow\n",
      "Name: Weather, Length: 8784, dtype: object\n"
     ]
    }
   ],
   "source": [
    "print(weather_df['Weather'])\n",
    "mean_temp_df=pd.pivot_table(weather_df,\n",
    "                            )"
   ]
  }
 ],
 "metadata": {
  "kernelspec": {
   "display_name": "Python 3",
   "language": "python",
   "name": "python3"
  },
  "language_info": {
   "codemirror_mode": {
    "name": "ipython",
    "version": 3
   },
   "file_extension": ".py",
   "mimetype": "text/x-python",
   "name": "python",
   "nbconvert_exporter": "python",
   "pygments_lexer": "ipython3",
   "version": "3.13.3"
  }
 },
 "nbformat": 4,
 "nbformat_minor": 5
}
