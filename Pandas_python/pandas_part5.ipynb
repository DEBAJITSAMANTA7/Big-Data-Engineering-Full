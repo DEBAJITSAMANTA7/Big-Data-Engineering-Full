{
 "cells": [
  {
   "cell_type": "code",
   "execution_count": 12,
   "id": "680334f7",
   "metadata": {},
   "outputs": [],
   "source": [
    "import pandas as pd\n",
    "import numpy as np\n",
    "weather_df=pd.read_csv(\"weather_2012.csv\")"
   ]
  },
  {
   "cell_type": "code",
   "execution_count": null,
   "id": "f3866fa1",
   "metadata": {},
   "outputs": [],
   "source": []
  },
  {
   "cell_type": "markdown",
   "id": "9e126775",
   "metadata": {},
   "source": [
    "# Pivot Table in Pandas\n",
    "\n",
    "A **pivot table** is a data summarization tool used to reorganize and aggregate data, which is extremely useful for analyzing large datasets.\n",
    "\n",
    "## Creating a Pivot Table in Pandas\n",
    "\n",
    "To create a pivot table in Pandas, we use the `pivot_table()` function.\n",
    "\n",
    "### Syntax:\n",
    "```python\n",
    "pandas.pivot_table(data, \n",
    "                   values=None, \n",
    "                   index=None, \n",
    "                   columns=None, \n",
    "                   aggfunc='mean', \n",
    "                   fill_value=None, \n",
    "                   margins=False, \n",
    "                   margins_name='All')\n"
   ]
  },
  {
   "cell_type": "code",
   "execution_count": 13,
   "id": "b9b9e0aa",
   "metadata": {},
   "outputs": [
    {
     "name": "stdout",
     "output_type": "stream",
     "text": [
      "     A    B  C  D\n",
      "0  foo  one  x  1\n",
      "1  foo  one  y  3\n",
      "2  foo  two  x  2\n",
      "3  bar  two  y  5\n",
      "4  bar  one  x  4\n",
      "5  bar  one  y  1\n"
     ]
    }
   ],
   "source": [
    "data={\n",
    "     'A': ['foo','foo','foo','bar','bar','bar'],\n",
    "     'B': ['one','one','two','two','one','one'],\n",
    "     'C': ['x','y','x','y','x','y'],\n",
    "     'D': [1,3,2,5,4,1]\n",
    "     }\n",
    "df=pd.DataFrame(data)\n",
    "\n",
    "# print(df.describe())\n",
    "print(df)"
   ]
  },
  {
   "cell_type": "code",
   "execution_count": 14,
   "id": "cd0987e3",
   "metadata": {},
   "outputs": [
    {
     "name": "stdout",
     "output_type": "stream",
     "text": [
      "C    x  y\n",
      "A        \n",
      "bar  4  6\n",
      "foo  3  3\n"
     ]
    },
    {
     "name": "stderr",
     "output_type": "stream",
     "text": [
      "/tmp/ipykernel_1813/2624656864.py:2: FutureWarning: The provided callable <function sum at 0x722fc86d0220> is currently using DataFrameGroupBy.sum. In a future version of pandas, the provided callable will be used directly. To keep current behavior pass the string \"sum\" instead.\n",
      "  pivot_df = pd.pivot_table(\n"
     ]
    }
   ],
   "source": [
    "#pivot table mainly do some kind of aggregate Operation  top of the table that is the use for the pivot table \n",
    "pivot_df = pd.pivot_table(\n",
    "    df,\n",
    "    values='D',\n",
    "    index='A',\n",
    "    columns='C',\n",
    "    aggfunc=np.sum\n",
    ")\n",
    "print(pivot_df)\n"
   ]
  },
  {
   "cell_type": "markdown",
   "id": "7388c2d3",
   "metadata": {},
   "source": [
    "what is mean temp recorded by month"
   ]
  },
  {
   "cell_type": "code",
   "execution_count": 15,
   "id": "50772820",
   "metadata": {},
   "outputs": [
    {
     "name": "stdout",
     "output_type": "stream",
     "text": [
      "            Temp (C)\n",
      "Month               \n",
      "April       7.009306\n",
      "August     22.279301\n",
      "December   -3.306317\n",
      "February   -4.225000\n",
      "January    -7.371505\n",
      "July       22.790054\n",
      "June       20.134028\n",
      "March       3.121237\n",
      "May        16.237769\n",
      "November    0.931389\n",
      "October    10.954973\n",
      "September  16.484444\n"
     ]
    }
   ],
   "source": [
    "# print(weather_df['Weather'])\n",
    "# mean_temp_df=pd.pivot_table(weather_df,\n",
    "#                             values='Temp (C)',\n",
    "#                             index=weather_df['Date/Time'].dt.month,\n",
    "#                          #    dt.month is date and time operation in pandas one type od specific function \n",
    "#                          aggfunc=np.mean\n",
    "\n",
    "#                             )\n",
    "weather_df['Date/Time']=pd.to_datetime(weather_df['Date/Time'])\n",
    "# need to convert it from a series to a date time column \n",
    "\n",
    "weather_df['Month'] = weather_df['Date/Time'].dt.month_name()\n",
    "\n",
    "mean_temp_df = pd.pivot_table(\n",
    "    weather_df,\n",
    "    values='Temp (C)',\n",
    "    index='Month',              # Use the new column name, not a Series\n",
    "    aggfunc=\"mean\")\n",
    "\n",
    "print(mean_temp_df)\n"
   ]
  },
  {
   "cell_type": "markdown",
   "id": "9713d9d8",
   "metadata": {},
   "source": [
    "# 📊 Pandas `groupby()` - Complete Notes\n",
    "\n",
    "## ✅ What is `groupby()` in Pandas? It is like SQL group by\n",
    "\n",
    "- Group by  a specific column data for entier dataset columns \n",
    "The `groupby()` function is used to:\n",
    "- **Split** the data into groups\n",
    "- **Apply** a function (like `sum`, `mean`, etc.)\n",
    "- **Combine** the results into a new DataFrame or Series\n",
    "\n",
    "This is very useful when analyzing grouped or categorized data.\n",
    "\n",
    "---\n",
    "\n",
    "## 🔧 Basic Syntax\n",
    "\n",
    "```python\n",
    "df.groupby('column_name')\n",
    "df.groupby(['col1', 'col2'])  # for multiple groupings\n"
   ]
  },
  {
   "cell_type": "code",
   "execution_count": 16,
   "id": "1ee3ed2e",
   "metadata": {},
   "outputs": [
    {
     "data": {
      "application/vnd.microsoft.datawrangler.viewer.v0+json": {
       "columns": [
        {
         "name": "Date/Time",
         "rawType": "datetime64[ns]",
         "type": "datetime"
        },
        {
         "name": "Temp (C)",
         "rawType": "float64",
         "type": "float"
        },
        {
         "name": "Dew Point Temp (C)",
         "rawType": "float64",
         "type": "float"
        },
        {
         "name": "Rel Hum (%)",
         "rawType": "int64",
         "type": "integer"
        },
        {
         "name": "Wind Spd (km/h)",
         "rawType": "int64",
         "type": "integer"
        },
        {
         "name": "Visibility (km)",
         "rawType": "float64",
         "type": "float"
        },
        {
         "name": "Stn Press (kPa)",
         "rawType": "float64",
         "type": "float"
        }
       ],
       "ref": "9f6ade4c-f736-4970-98dc-fa1db6276094",
       "rows": [
        [
         "2012-01-01 00:00:00",
         "-1.8",
         "-3.9",
         "86",
         "4",
         "8.0",
         "101.24"
        ],
        [
         "2012-01-01 01:00:00",
         "-1.8",
         "-3.7",
         "87",
         "4",
         "8.0",
         "101.24"
        ],
        [
         "2012-01-01 02:00:00",
         "-1.8",
         "-3.4",
         "89",
         "7",
         "4.0",
         "101.26"
        ],
        [
         "2012-01-01 03:00:00",
         "-1.5",
         "-3.2",
         "88",
         "6",
         "4.0",
         "101.27"
        ],
        [
         "2012-01-01 04:00:00",
         "-1.5",
         "-3.3",
         "88",
         "7",
         "4.8",
         "101.23"
        ],
        [
         "2012-01-01 05:00:00",
         "-1.4",
         "-3.3",
         "87",
         "9",
         "6.4",
         "101.27"
        ],
        [
         "2012-01-01 06:00:00",
         "-1.5",
         "-3.1",
         "89",
         "7",
         "6.4",
         "101.29"
        ],
        [
         "2012-01-01 07:00:00",
         "-1.4",
         "-3.6",
         "85",
         "7",
         "8.0",
         "101.26"
        ],
        [
         "2012-01-01 08:00:00",
         "-1.4",
         "-3.6",
         "85",
         "9",
         "8.0",
         "101.23"
        ],
        [
         "2012-01-01 09:00:00",
         "-1.3",
         "-3.1",
         "88",
         "15",
         "4.0",
         "101.2"
        ],
        [
         "2012-01-01 10:00:00",
         "-1.0",
         "-2.3",
         "91",
         "9",
         "1.2",
         "101.15"
        ],
        [
         "2012-01-01 11:00:00",
         "-0.5",
         "-2.1",
         "89",
         "7",
         "4.0",
         "100.98"
        ],
        [
         "2012-01-01 12:00:00",
         "-0.2",
         "-2.0",
         "88",
         "9",
         "4.8",
         "100.79"
        ],
        [
         "2012-01-01 13:00:00",
         "0.2",
         "-1.7",
         "87",
         "13",
         "4.8",
         "100.58"
        ],
        [
         "2012-01-01 14:00:00",
         "0.8",
         "-1.1",
         "87",
         "20",
         "4.8",
         "100.31"
        ],
        [
         "2012-01-01 15:00:00",
         "1.8",
         "-0.4",
         "85",
         "22",
         "6.4",
         "100.07"
        ],
        [
         "2012-01-01 16:00:00",
         "2.6",
         "-0.2",
         "82",
         "13",
         "12.9",
         "99.93"
        ],
        [
         "2012-01-01 17:00:00",
         "3.0",
         "0.0",
         "81",
         "13",
         "16.1",
         "99.81"
        ],
        [
         "2012-01-01 18:00:00",
         "3.8",
         "1.0",
         "82",
         "15",
         "12.9",
         "99.74"
        ],
        [
         "2012-01-01 19:00:00",
         "3.1",
         "1.3",
         "88",
         "15",
         "12.9",
         "99.68"
        ],
        [
         "2012-01-01 20:00:00",
         "3.2",
         "1.3",
         "87",
         "19",
         "25.0",
         "99.5"
        ],
        [
         "2012-01-01 21:00:00",
         "4.0",
         "1.7",
         "85",
         "20",
         "25.0",
         "99.39"
        ],
        [
         "2012-01-01 22:00:00",
         "4.4",
         "1.9",
         "84",
         "24",
         "19.3",
         "99.32"
        ],
        [
         "2012-01-01 23:00:00",
         "5.3",
         "2.0",
         "79",
         "30",
         "25.0",
         "99.31"
        ],
        [
         "2012-01-02 00:00:00",
         "5.2",
         "1.5",
         "77",
         "35",
         "25.0",
         "99.26"
        ],
        [
         "2012-01-02 01:00:00",
         "4.6",
         "0.0",
         "72",
         "39",
         "25.0",
         "99.26"
        ],
        [
         "2012-01-02 02:00:00",
         "3.9",
         "-0.9",
         "71",
         "32",
         "25.0",
         "99.26"
        ],
        [
         "2012-01-02 03:00:00",
         "3.7",
         "-1.5",
         "69",
         "33",
         "25.0",
         "99.3"
        ],
        [
         "2012-01-02 04:00:00",
         "2.9",
         "-2.3",
         "69",
         "32",
         "25.0",
         "99.26"
        ],
        [
         "2012-01-02 05:00:00",
         "2.6",
         "-2.3",
         "70",
         "32",
         "25.0",
         "99.21"
        ],
        [
         "2012-01-02 06:00:00",
         "2.3",
         "-2.6",
         "70",
         "26",
         "25.0",
         "99.18"
        ],
        [
         "2012-01-02 07:00:00",
         "2.0",
         "-2.9",
         "70",
         "33",
         "25.0",
         "99.14"
        ],
        [
         "2012-01-02 08:00:00",
         "1.9",
         "-3.3",
         "68",
         "39",
         "24.1",
         "99.14"
        ],
        [
         "2012-01-02 09:00:00",
         "1.8",
         "-3.7",
         "67",
         "44",
         "24.1",
         "99.14"
        ],
        [
         "2012-01-02 10:00:00",
         "1.5",
         "-4.1",
         "66",
         "43",
         "24.1",
         "99.18"
        ],
        [
         "2012-01-02 11:00:00",
         "2.2",
         "-3.5",
         "66",
         "30",
         "24.1",
         "99.19"
        ],
        [
         "2012-01-02 12:00:00",
         "1.7",
         "-6.2",
         "56",
         "48",
         "24.1",
         "99.21"
        ],
        [
         "2012-01-02 13:00:00",
         "1.1",
         "-6.5",
         "57",
         "37",
         "24.1",
         "99.27"
        ],
        [
         "2012-01-02 14:00:00",
         "1.1",
         "-6.8",
         "56",
         "33",
         "24.1",
         "99.33"
        ],
        [
         "2012-01-02 15:00:00",
         "0.0",
         "-7.0",
         "59",
         "33",
         "24.1",
         "99.41"
        ],
        [
         "2012-01-02 16:00:00",
         "-0.7",
         "-8.7",
         "55",
         "24",
         "24.1",
         "99.5"
        ],
        [
         "2012-01-02 17:00:00",
         "-2.1",
         "-9.5",
         "57",
         "22",
         "25.0",
         "99.66"
        ],
        [
         "2012-01-02 18:00:00",
         "-4.1",
         "-11.4",
         "57",
         "28",
         "25.0",
         "99.86"
        ],
        [
         "2012-01-02 19:00:00",
         "-4.8",
         "-12.1",
         "57",
         "24",
         "25.0",
         "100.0"
        ],
        [
         "2012-01-02 20:00:00",
         "-5.6",
         "-13.4",
         "54",
         "24",
         "25.0",
         "100.07"
        ],
        [
         "2012-01-02 21:00:00",
         "-5.8",
         "-12.8",
         "58",
         "26",
         "25.0",
         "100.15"
        ],
        [
         "2012-01-02 22:00:00",
         "-7.0",
         "-14.7",
         "54",
         "20",
         "25.0",
         "100.26"
        ],
        [
         "2012-01-02 23:00:00",
         "-7.4",
         "-14.1",
         "59",
         "17",
         "19.3",
         "100.27"
        ],
        [
         "2012-01-03 00:00:00",
         "-9.0",
         "-16.0",
         "57",
         "28",
         "25.0",
         "100.35"
        ],
        [
         "2012-01-03 01:00:00",
         "-9.7",
         "-17.2",
         "54",
         "20",
         "25.0",
         "100.43"
        ]
       ],
       "shape": {
        "columns": 6,
        "rows": 8784
       }
      },
      "text/html": [
       "<div>\n",
       "<style scoped>\n",
       "    .dataframe tbody tr th:only-of-type {\n",
       "        vertical-align: middle;\n",
       "    }\n",
       "\n",
       "    .dataframe tbody tr th {\n",
       "        vertical-align: top;\n",
       "    }\n",
       "\n",
       "    .dataframe thead th {\n",
       "        text-align: right;\n",
       "    }\n",
       "</style>\n",
       "<table border=\"1\" class=\"dataframe\">\n",
       "  <thead>\n",
       "    <tr style=\"text-align: right;\">\n",
       "      <th></th>\n",
       "      <th>Temp (C)</th>\n",
       "      <th>Dew Point Temp (C)</th>\n",
       "      <th>Rel Hum (%)</th>\n",
       "      <th>Wind Spd (km/h)</th>\n",
       "      <th>Visibility (km)</th>\n",
       "      <th>Stn Press (kPa)</th>\n",
       "    </tr>\n",
       "    <tr>\n",
       "      <th>Date/Time</th>\n",
       "      <th></th>\n",
       "      <th></th>\n",
       "      <th></th>\n",
       "      <th></th>\n",
       "      <th></th>\n",
       "      <th></th>\n",
       "    </tr>\n",
       "  </thead>\n",
       "  <tbody>\n",
       "    <tr>\n",
       "      <th>2012-01-01 00:00:00</th>\n",
       "      <td>-1.8</td>\n",
       "      <td>-3.9</td>\n",
       "      <td>86</td>\n",
       "      <td>4</td>\n",
       "      <td>8.0</td>\n",
       "      <td>101.24</td>\n",
       "    </tr>\n",
       "    <tr>\n",
       "      <th>2012-01-01 01:00:00</th>\n",
       "      <td>-1.8</td>\n",
       "      <td>-3.7</td>\n",
       "      <td>87</td>\n",
       "      <td>4</td>\n",
       "      <td>8.0</td>\n",
       "      <td>101.24</td>\n",
       "    </tr>\n",
       "    <tr>\n",
       "      <th>2012-01-01 02:00:00</th>\n",
       "      <td>-1.8</td>\n",
       "      <td>-3.4</td>\n",
       "      <td>89</td>\n",
       "      <td>7</td>\n",
       "      <td>4.0</td>\n",
       "      <td>101.26</td>\n",
       "    </tr>\n",
       "    <tr>\n",
       "      <th>2012-01-01 03:00:00</th>\n",
       "      <td>-1.5</td>\n",
       "      <td>-3.2</td>\n",
       "      <td>88</td>\n",
       "      <td>6</td>\n",
       "      <td>4.0</td>\n",
       "      <td>101.27</td>\n",
       "    </tr>\n",
       "    <tr>\n",
       "      <th>2012-01-01 04:00:00</th>\n",
       "      <td>-1.5</td>\n",
       "      <td>-3.3</td>\n",
       "      <td>88</td>\n",
       "      <td>7</td>\n",
       "      <td>4.8</td>\n",
       "      <td>101.23</td>\n",
       "    </tr>\n",
       "    <tr>\n",
       "      <th>...</th>\n",
       "      <td>...</td>\n",
       "      <td>...</td>\n",
       "      <td>...</td>\n",
       "      <td>...</td>\n",
       "      <td>...</td>\n",
       "      <td>...</td>\n",
       "    </tr>\n",
       "    <tr>\n",
       "      <th>2012-12-31 19:00:00</th>\n",
       "      <td>0.1</td>\n",
       "      <td>-2.7</td>\n",
       "      <td>81</td>\n",
       "      <td>30</td>\n",
       "      <td>9.7</td>\n",
       "      <td>100.13</td>\n",
       "    </tr>\n",
       "    <tr>\n",
       "      <th>2012-12-31 20:00:00</th>\n",
       "      <td>0.2</td>\n",
       "      <td>-2.4</td>\n",
       "      <td>83</td>\n",
       "      <td>24</td>\n",
       "      <td>9.7</td>\n",
       "      <td>100.03</td>\n",
       "    </tr>\n",
       "    <tr>\n",
       "      <th>2012-12-31 21:00:00</th>\n",
       "      <td>-0.5</td>\n",
       "      <td>-1.5</td>\n",
       "      <td>93</td>\n",
       "      <td>28</td>\n",
       "      <td>4.8</td>\n",
       "      <td>99.95</td>\n",
       "    </tr>\n",
       "    <tr>\n",
       "      <th>2012-12-31 22:00:00</th>\n",
       "      <td>-0.2</td>\n",
       "      <td>-1.8</td>\n",
       "      <td>89</td>\n",
       "      <td>28</td>\n",
       "      <td>9.7</td>\n",
       "      <td>99.91</td>\n",
       "    </tr>\n",
       "    <tr>\n",
       "      <th>2012-12-31 23:00:00</th>\n",
       "      <td>0.0</td>\n",
       "      <td>-2.1</td>\n",
       "      <td>86</td>\n",
       "      <td>30</td>\n",
       "      <td>11.3</td>\n",
       "      <td>99.89</td>\n",
       "    </tr>\n",
       "  </tbody>\n",
       "</table>\n",
       "<p>8784 rows × 6 columns</p>\n",
       "</div>"
      ],
      "text/plain": [
       "                     Temp (C)  Dew Point Temp (C)  Rel Hum (%)  \\\n",
       "Date/Time                                                        \n",
       "2012-01-01 00:00:00      -1.8                -3.9           86   \n",
       "2012-01-01 01:00:00      -1.8                -3.7           87   \n",
       "2012-01-01 02:00:00      -1.8                -3.4           89   \n",
       "2012-01-01 03:00:00      -1.5                -3.2           88   \n",
       "2012-01-01 04:00:00      -1.5                -3.3           88   \n",
       "...                       ...                 ...          ...   \n",
       "2012-12-31 19:00:00       0.1                -2.7           81   \n",
       "2012-12-31 20:00:00       0.2                -2.4           83   \n",
       "2012-12-31 21:00:00      -0.5                -1.5           93   \n",
       "2012-12-31 22:00:00      -0.2                -1.8           89   \n",
       "2012-12-31 23:00:00       0.0                -2.1           86   \n",
       "\n",
       "                     Wind Spd (km/h)  Visibility (km)  Stn Press (kPa)  \n",
       "Date/Time                                                               \n",
       "2012-01-01 00:00:00                4              8.0           101.24  \n",
       "2012-01-01 01:00:00                4              8.0           101.24  \n",
       "2012-01-01 02:00:00                7              4.0           101.26  \n",
       "2012-01-01 03:00:00                6              4.0           101.27  \n",
       "2012-01-01 04:00:00                7              4.8           101.23  \n",
       "...                              ...              ...              ...  \n",
       "2012-12-31 19:00:00               30              9.7           100.13  \n",
       "2012-12-31 20:00:00               24              9.7           100.03  \n",
       "2012-12-31 21:00:00               28              4.8            99.95  \n",
       "2012-12-31 22:00:00               28              9.7            99.91  \n",
       "2012-12-31 23:00:00               30             11.3            99.89  \n",
       "\n",
       "[8784 rows x 6 columns]"
      ]
     },
     "execution_count": 16,
     "metadata": {},
     "output_type": "execute_result"
    }
   ],
   "source": [
    "\n",
    "\n",
    "# mean_temparature_df2=weather_df.groupby(weather_df['Date/Time'].dt.month).mean(numeric_only=True).reset_index()\n",
    "# mean_temparature_df2\n",
    "\n",
    "# .mean(numeric_only=True) means in the column all the mean will happen only for the numeric values columns \n",
    "\n",
    "# or specify the column that you want to print \n",
    "\n",
    "weather_df.groupby(weather_df['Wind Spd (km/h)']).mean(numeric_only=True)\n",
    "weather_df.groupby(weather_df['Date/Time']).max(numeric_only=True)\n"
   ]
  },
  {
   "cell_type": "markdown",
   "id": "adf1b90b",
   "metadata": {},
   "source": [
    "# 🔗 Pandas - concat(), merge(), join()\n",
    "\n",
    "In Pandas, you can combine multiple DataFrames using **concat**, **merge**, or **join** depending on the structure and logic.\n",
    "\n",
    "---\n",
    "\n",
    "## 🔶 1. pd.concat()\n",
    "\n",
    "### ➤ Used to stack DataFrames **vertically or horizontally**\n",
    "```python\n",
    "pd.concat([df1, df2])                      # axis=0 (default), row-wise\n",
    "pd.concat([df1, df2], axis=1)             # axis=1, column-wise\n"
   ]
  },
  {
   "cell_type": "code",
   "execution_count": 17,
   "id": "58748898",
   "metadata": {},
   "outputs": [],
   "source": [
    "df1=pd.DataFrame({\n",
    "     'A':['A0','A1','A2','A3'],\n",
    "     'B':['B0','B1','B2','B3'],\n",
    "     'C':['C0','C1','C2','C3'],\n",
    "     'D':['D0','D1','D2','D3'],\n",
    "\n",
    "},index=[0,1,2,3])\n",
    "# Create df2\n",
    "df2 = pd.DataFrame({\n",
    "    'A': ['A4', 'A5', 'A6', 'A7'],\n",
    "    'B': ['B4', 'B5', 'B6', 'B7'],\n",
    "    'C': ['C4', 'C5', 'C6', 'C7'],\n",
    "    'D': ['D4', 'D5', 'D6', 'D7']\n",
    "}, index=[4, 5, 6, 7])\n",
    "\n",
    "# Create df3\n",
    "df3 = pd.DataFrame({\n",
    "    'A': ['A8', 'A9', 'A10', 'A11'],\n",
    "    'B': ['B8', 'B9', 'B10', 'B11'],\n",
    "    'C': ['C8', 'C9', 'C10', 'C11'],\n",
    "    'E': ['D8', 'D9', 'D10', 'D11']\n",
    "}, index=[8, 9, 10, 11])\n",
    "# Create df4\n",
    "df4 = pd.DataFrame([['A8', 'A9', 'A10', 'A11'],\n",
    "                    ['B8', 'B9', 'B10', 'B11'],\n",
    "                      ['C8', 'C9', 'C10', 'C11'],\n",
    "                        ['D8', 'D9', 'D10', 'D11']\n",
    "], index=[8, 9, 10, 11], columns=['x','Y','Z','A'])\n"
   ]
  },
  {
   "cell_type": "code",
   "execution_count": 24,
   "id": "92a662dd",
   "metadata": {},
   "outputs": [
    {
     "data": {
      "application/vnd.microsoft.datawrangler.viewer.v0+json": {
       "columns": [
        {
         "name": "index",
         "rawType": "int64",
         "type": "integer"
        },
        {
         "name": "key1",
         "rawType": "object",
         "type": "unknown"
        },
        {
         "name": "key2",
         "rawType": "object",
         "type": "unknown"
        },
        {
         "name": "A",
         "rawType": "object",
         "type": "unknown"
        },
        {
         "name": "B",
         "rawType": "object",
         "type": "unknown"
        },
        {
         "name": "C",
         "rawType": "object",
         "type": "unknown"
        },
        {
         "name": "D",
         "rawType": "object",
         "type": "unknown"
        },
        {
         "name": "E",
         "rawType": "object",
         "type": "unknown"
        }
       ],
       "ref": "57d0185b-9a00-43b1-a9f6-035b2a59aaec",
       "rows": [
        [
         "1",
         "K0",
         "K0",
         "A0",
         "B0",
         null,
         null,
         null
        ],
        [
         "2",
         "K0",
         "K1",
         "A1",
         "B1",
         null,
         null,
         null
        ],
        [
         "3",
         "K1",
         "K0",
         "A2",
         "B2",
         null,
         null,
         null
        ],
        [
         "4",
         "K2",
         "K1",
         "A3",
         "B3",
         null,
         null,
         null
        ],
        [
         "5",
         "K0",
         "K0",
         null,
         null,
         "C0",
         "D0",
         null
        ],
        [
         "6",
         "K1",
         "K0",
         null,
         null,
         "C1",
         "D1",
         null
        ],
        [
         "7",
         "K1",
         "K1",
         null,
         null,
         "C2",
         "D2",
         null
        ],
        [
         "8",
         "K2",
         "K0",
         null,
         null,
         "C3",
         "D3",
         null
        ],
        [
         "8",
         null,
         null,
         "A8",
         "B8",
         "C8",
         null,
         "D8"
        ],
        [
         "9",
         null,
         null,
         "A9",
         "B9",
         "C9",
         null,
         "D9"
        ],
        [
         "10",
         null,
         null,
         "A10",
         "B10",
         "C10",
         null,
         "D10"
        ],
        [
         "11",
         null,
         null,
         "A11",
         "B11",
         "C11",
         null,
         "D11"
        ]
       ],
       "shape": {
        "columns": 7,
        "rows": 12
       }
      },
      "text/html": [
       "<div>\n",
       "<style scoped>\n",
       "    .dataframe tbody tr th:only-of-type {\n",
       "        vertical-align: middle;\n",
       "    }\n",
       "\n",
       "    .dataframe tbody tr th {\n",
       "        vertical-align: top;\n",
       "    }\n",
       "\n",
       "    .dataframe thead th {\n",
       "        text-align: right;\n",
       "    }\n",
       "</style>\n",
       "<table border=\"1\" class=\"dataframe\">\n",
       "  <thead>\n",
       "    <tr style=\"text-align: right;\">\n",
       "      <th></th>\n",
       "      <th>key1</th>\n",
       "      <th>key2</th>\n",
       "      <th>A</th>\n",
       "      <th>B</th>\n",
       "      <th>C</th>\n",
       "      <th>D</th>\n",
       "      <th>E</th>\n",
       "    </tr>\n",
       "  </thead>\n",
       "  <tbody>\n",
       "    <tr>\n",
       "      <th>1</th>\n",
       "      <td>K0</td>\n",
       "      <td>K0</td>\n",
       "      <td>A0</td>\n",
       "      <td>B0</td>\n",
       "      <td>NaN</td>\n",
       "      <td>NaN</td>\n",
       "      <td>NaN</td>\n",
       "    </tr>\n",
       "    <tr>\n",
       "      <th>2</th>\n",
       "      <td>K0</td>\n",
       "      <td>K1</td>\n",
       "      <td>A1</td>\n",
       "      <td>B1</td>\n",
       "      <td>NaN</td>\n",
       "      <td>NaN</td>\n",
       "      <td>NaN</td>\n",
       "    </tr>\n",
       "    <tr>\n",
       "      <th>3</th>\n",
       "      <td>K1</td>\n",
       "      <td>K0</td>\n",
       "      <td>A2</td>\n",
       "      <td>B2</td>\n",
       "      <td>NaN</td>\n",
       "      <td>NaN</td>\n",
       "      <td>NaN</td>\n",
       "    </tr>\n",
       "    <tr>\n",
       "      <th>4</th>\n",
       "      <td>K2</td>\n",
       "      <td>K1</td>\n",
       "      <td>A3</td>\n",
       "      <td>B3</td>\n",
       "      <td>NaN</td>\n",
       "      <td>NaN</td>\n",
       "      <td>NaN</td>\n",
       "    </tr>\n",
       "    <tr>\n",
       "      <th>5</th>\n",
       "      <td>K0</td>\n",
       "      <td>K0</td>\n",
       "      <td>NaN</td>\n",
       "      <td>NaN</td>\n",
       "      <td>C0</td>\n",
       "      <td>D0</td>\n",
       "      <td>NaN</td>\n",
       "    </tr>\n",
       "    <tr>\n",
       "      <th>6</th>\n",
       "      <td>K1</td>\n",
       "      <td>K0</td>\n",
       "      <td>NaN</td>\n",
       "      <td>NaN</td>\n",
       "      <td>C1</td>\n",
       "      <td>D1</td>\n",
       "      <td>NaN</td>\n",
       "    </tr>\n",
       "    <tr>\n",
       "      <th>7</th>\n",
       "      <td>K1</td>\n",
       "      <td>K1</td>\n",
       "      <td>NaN</td>\n",
       "      <td>NaN</td>\n",
       "      <td>C2</td>\n",
       "      <td>D2</td>\n",
       "      <td>NaN</td>\n",
       "    </tr>\n",
       "    <tr>\n",
       "      <th>8</th>\n",
       "      <td>K2</td>\n",
       "      <td>K0</td>\n",
       "      <td>NaN</td>\n",
       "      <td>NaN</td>\n",
       "      <td>C3</td>\n",
       "      <td>D3</td>\n",
       "      <td>NaN</td>\n",
       "    </tr>\n",
       "    <tr>\n",
       "      <th>8</th>\n",
       "      <td>NaN</td>\n",
       "      <td>NaN</td>\n",
       "      <td>A8</td>\n",
       "      <td>B8</td>\n",
       "      <td>C8</td>\n",
       "      <td>NaN</td>\n",
       "      <td>D8</td>\n",
       "    </tr>\n",
       "    <tr>\n",
       "      <th>9</th>\n",
       "      <td>NaN</td>\n",
       "      <td>NaN</td>\n",
       "      <td>A9</td>\n",
       "      <td>B9</td>\n",
       "      <td>C9</td>\n",
       "      <td>NaN</td>\n",
       "      <td>D9</td>\n",
       "    </tr>\n",
       "    <tr>\n",
       "      <th>10</th>\n",
       "      <td>NaN</td>\n",
       "      <td>NaN</td>\n",
       "      <td>A10</td>\n",
       "      <td>B10</td>\n",
       "      <td>C10</td>\n",
       "      <td>NaN</td>\n",
       "      <td>D10</td>\n",
       "    </tr>\n",
       "    <tr>\n",
       "      <th>11</th>\n",
       "      <td>NaN</td>\n",
       "      <td>NaN</td>\n",
       "      <td>A11</td>\n",
       "      <td>B11</td>\n",
       "      <td>C11</td>\n",
       "      <td>NaN</td>\n",
       "      <td>D11</td>\n",
       "    </tr>\n",
       "  </tbody>\n",
       "</table>\n",
       "</div>"
      ],
      "text/plain": [
       "   key1 key2    A    B    C    D    E\n",
       "1    K0   K0   A0   B0  NaN  NaN  NaN\n",
       "2    K0   K1   A1   B1  NaN  NaN  NaN\n",
       "3    K1   K0   A2   B2  NaN  NaN  NaN\n",
       "4    K2   K1   A3   B3  NaN  NaN  NaN\n",
       "5    K0   K0  NaN  NaN   C0   D0  NaN\n",
       "6    K1   K0  NaN  NaN   C1   D1  NaN\n",
       "7    K1   K1  NaN  NaN   C2   D2  NaN\n",
       "8    K2   K0  NaN  NaN   C3   D3  NaN\n",
       "8   NaN  NaN   A8   B8   C8  NaN   D8\n",
       "9   NaN  NaN   A9   B9   C9  NaN   D9\n",
       "10  NaN  NaN  A10  B10  C10  NaN  D10\n",
       "11  NaN  NaN  A11  B11  C11  NaN  D11"
      ]
     },
     "execution_count": 24,
     "metadata": {},
     "output_type": "execute_result"
    }
   ],
   "source": [
    "pd.concat([df1,df2,df3],axis=0)\n",
    "# if you do'nt give azix then it will take as 0 means row 0 as default \n",
    "# | `axis=0` | Stack rows (vertical)    |\n",
    "# | -------- | ------------------------ |\n",
    "# | `axis=1` | Add columns (horizontal) |\n"
   ]
  },
  {
   "cell_type": "code",
   "execution_count": 19,
   "id": "afd96240",
   "metadata": {},
   "outputs": [],
   "source": [
    "# df1.join(df2, how='left')\n",
    "# df1.join(df2, how='right')\n",
    "# df1.join(df2, how='inner')\n",
    "# df1.join(df2, how='outer')\n",
    "\n",
    "# : Join on a column (not index)\n",
    "\n",
    "# df1 = pd.DataFrame({'ID': [1, 2], 'Name': ['Arjun', 'Karan']})\n",
    "# df2 = pd.DataFrame({'ID': [1, 2], 'Marks': [85, 90]})\n",
    "\n",
    "# # Set 'ID' as index for both to use join\n",
    "# result = df1.set_index('ID').join(df2.set_index('ID'))\n",
    "\n",
    "\n",
    "# ## 🧠 Syntax:\n",
    "# ```python\n",
    "# df1.join(df2)\n",
    "# df1.join(df2, on='key_column', how='left')\n",
    "\n"
   ]
  },
  {
   "cell_type": "code",
   "execution_count": 20,
   "id": "ac9cc6f3",
   "metadata": {},
   "outputs": [
    {
     "data": {
      "application/vnd.microsoft.datawrangler.viewer.v0+json": {
       "columns": [
        {
         "name": "index",
         "rawType": "object",
         "type": "string"
        },
        {
         "name": "A",
         "rawType": "object",
         "type": "string"
        },
        {
         "name": "B",
         "rawType": "object",
         "type": "string"
        },
        {
         "name": "E",
         "rawType": "object",
         "type": "string"
        },
        {
         "name": "C",
         "rawType": "object",
         "type": "string"
        },
        {
         "name": "D",
         "rawType": "object",
         "type": "string"
        },
        {
         "name": "E2",
         "rawType": "object",
         "type": "string"
        }
       ],
       "ref": "d0ff2b75-e93f-4320-829b-465cc6ae5d30",
       "rows": [
        [
         "K1",
         "A1",
         "B1",
         "E2",
         "C0",
         "D0",
         "E1"
        ],
        [
         "K2",
         "A2",
         "A3",
         "A4",
         "C1",
         "D1",
         "E2"
        ]
       ],
       "shape": {
        "columns": 6,
        "rows": 2
       }
      },
      "text/html": [
       "<div>\n",
       "<style scoped>\n",
       "    .dataframe tbody tr th:only-of-type {\n",
       "        vertical-align: middle;\n",
       "    }\n",
       "\n",
       "    .dataframe tbody tr th {\n",
       "        vertical-align: top;\n",
       "    }\n",
       "\n",
       "    .dataframe thead th {\n",
       "        text-align: right;\n",
       "    }\n",
       "</style>\n",
       "<table border=\"1\" class=\"dataframe\">\n",
       "  <thead>\n",
       "    <tr style=\"text-align: right;\">\n",
       "      <th></th>\n",
       "      <th>A</th>\n",
       "      <th>B</th>\n",
       "      <th>E</th>\n",
       "      <th>C</th>\n",
       "      <th>D</th>\n",
       "      <th>E2</th>\n",
       "    </tr>\n",
       "  </thead>\n",
       "  <tbody>\n",
       "    <tr>\n",
       "      <th>K1</th>\n",
       "      <td>A1</td>\n",
       "      <td>B1</td>\n",
       "      <td>E2</td>\n",
       "      <td>C0</td>\n",
       "      <td>D0</td>\n",
       "      <td>E1</td>\n",
       "    </tr>\n",
       "    <tr>\n",
       "      <th>K2</th>\n",
       "      <td>A2</td>\n",
       "      <td>A3</td>\n",
       "      <td>A4</td>\n",
       "      <td>C1</td>\n",
       "      <td>D1</td>\n",
       "      <td>E2</td>\n",
       "    </tr>\n",
       "  </tbody>\n",
       "</table>\n",
       "</div>"
      ],
      "text/plain": [
       "     A   B   E   C   D  E2\n",
       "K1  A1  B1  E2  C0  D0  E1\n",
       "K2  A2  A3  A4  C1  D1  E2"
      ]
     },
     "execution_count": 20,
     "metadata": {},
     "output_type": "execute_result"
    }
   ],
   "source": [
    "# index shuld be match for thr data farmes atleast one Index --> Join\n",
    "\n",
    "left_df=pd.DataFrame({\n",
    "     'A':['A0','A1','A2'],\n",
    "     'B':['B0','B1','A3'],\n",
    "     'E':['E1','E2','A4']\n",
    "},index=['K0','K1','K2'])\n",
    "\n",
    "right_df=pd.DataFrame({\n",
    "     'C':['C0','C1','C3'],\n",
    "     'D':['D0','D1','C5'],\n",
    "     'E2':['E1','E2','C6']\n",
    "},index=['K1','K2','K4'])\n",
    "\n",
    "left_df.join(right_df,how='inner')"
   ]
  },
  {
   "cell_type": "markdown",
   "id": "5dbea5df",
   "metadata": {},
   "source": [
    "# 🔗 pandas `merge()` – Table Join Based on Columns\n",
    "\n",
    "## ✅ What is `merge()`?\n",
    "`merge()` is used to combine two DataFrames based on one or more **columns (keys)**, just like SQL joins.\n",
    "\n",
    "---\n",
    "\n",
    "## 🧠 Important Rule:\n",
    "👉 At least one **column should be common** (key) in both DataFrames  \n",
    "(Unlike `join()`, which requires matching **index**)\n",
    "\n",
    "---\n",
    "\n",
    "## 🔧 Syntax:\n",
    "```python\n",
    "pd.merge(df1, df2, on='key_column', how='inner')\n",
    "pd.merge(df1, df2, on=['key1', 'key2'], how='outer')\n",
    "here also we will use left right inner and outer join"
   ]
  },
  {
   "cell_type": "code",
   "execution_count": 21,
   "id": "fc8af500",
   "metadata": {},
   "outputs": [],
   "source": [
    "# First DataFrame\n",
    "df1 = pd.DataFrame({\n",
    "    'key1': ['K0', 'K0', 'K1', 'K2'],\n",
    "    'key2': ['K0', 'K1', 'K0', 'K1'],\n",
    "    'A': ['A0', 'A1', 'A2', 'A3'],\n",
    "    'B': ['B0', 'B1', 'B2', 'B3']\n",
    "},index=[1,2,3,4])\n",
    "\n",
    "# Second DataFrame\n",
    "df2 = pd.DataFrame({\n",
    "    'key1': ['K0', 'K1', 'K1', 'K2'],\n",
    "    'key2': ['K0', 'K0', 'K1', 'K0'],\n",
    "    'C': ['C0', 'C1', 'C2', 'C3'],\n",
    "    'D': ['D0', 'D1', 'D2', 'D3']\n",
    "},index=[5,6,7,8])"
   ]
  },
  {
   "cell_type": "code",
   "execution_count": 22,
   "id": "8336d65a",
   "metadata": {},
   "outputs": [
    {
     "data": {
      "application/vnd.microsoft.datawrangler.viewer.v0+json": {
       "columns": [
        {
         "name": "index",
         "rawType": "int64",
         "type": "integer"
        },
        {
         "name": "key1",
         "rawType": "object",
         "type": "string"
        },
        {
         "name": "key2",
         "rawType": "object",
         "type": "string"
        },
        {
         "name": "A",
         "rawType": "object",
         "type": "string"
        },
        {
         "name": "B",
         "rawType": "object",
         "type": "string"
        },
        {
         "name": "C",
         "rawType": "object",
         "type": "string"
        },
        {
         "name": "D",
         "rawType": "object",
         "type": "string"
        }
       ],
       "ref": "6277de65-c51a-4d3e-8e55-e36e1de8f79b",
       "rows": [
        [
         "0",
         "K0",
         "K0",
         "A0",
         "B0",
         "C0",
         "D0"
        ],
        [
         "1",
         "K1",
         "K0",
         "A2",
         "B2",
         "C1",
         "D1"
        ]
       ],
       "shape": {
        "columns": 6,
        "rows": 2
       }
      },
      "text/html": [
       "<div>\n",
       "<style scoped>\n",
       "    .dataframe tbody tr th:only-of-type {\n",
       "        vertical-align: middle;\n",
       "    }\n",
       "\n",
       "    .dataframe tbody tr th {\n",
       "        vertical-align: top;\n",
       "    }\n",
       "\n",
       "    .dataframe thead th {\n",
       "        text-align: right;\n",
       "    }\n",
       "</style>\n",
       "<table border=\"1\" class=\"dataframe\">\n",
       "  <thead>\n",
       "    <tr style=\"text-align: right;\">\n",
       "      <th></th>\n",
       "      <th>key1</th>\n",
       "      <th>key2</th>\n",
       "      <th>A</th>\n",
       "      <th>B</th>\n",
       "      <th>C</th>\n",
       "      <th>D</th>\n",
       "    </tr>\n",
       "  </thead>\n",
       "  <tbody>\n",
       "    <tr>\n",
       "      <th>0</th>\n",
       "      <td>K0</td>\n",
       "      <td>K0</td>\n",
       "      <td>A0</td>\n",
       "      <td>B0</td>\n",
       "      <td>C0</td>\n",
       "      <td>D0</td>\n",
       "    </tr>\n",
       "    <tr>\n",
       "      <th>1</th>\n",
       "      <td>K1</td>\n",
       "      <td>K0</td>\n",
       "      <td>A2</td>\n",
       "      <td>B2</td>\n",
       "      <td>C1</td>\n",
       "      <td>D1</td>\n",
       "    </tr>\n",
       "  </tbody>\n",
       "</table>\n",
       "</div>"
      ],
      "text/plain": [
       "  key1 key2   A   B   C   D\n",
       "0   K0   K0  A0  B0  C0  D0\n",
       "1   K1   K0  A2  B2  C1  D1"
      ]
     },
     "execution_count": 22,
     "metadata": {},
     "output_type": "execute_result"
    }
   ],
   "source": [
    "pd.merge(df1,df2,on=['key1','key2'],how='inner')"
   ]
  }
 ],
 "metadata": {
  "kernelspec": {
   "display_name": "Python 3",
   "language": "python",
   "name": "python3"
  },
  "language_info": {
   "codemirror_mode": {
    "name": "ipython",
    "version": 3
   },
   "file_extension": ".py",
   "mimetype": "text/x-python",
   "name": "python",
   "nbconvert_exporter": "python",
   "pygments_lexer": "ipython3",
   "version": "3.12.1"
  }
 },
 "nbformat": 4,
 "nbformat_minor": 5
}
