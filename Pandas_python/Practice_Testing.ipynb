{
 "cells": [
  {
   "cell_type": "code",
   "execution_count": 2,
   "id": "abc0cc19",
   "metadata": {},
   "outputs": [],
   "source": [
    "import pandas as pd\n",
    "import numpy as np"
   ]
  },
  {
   "cell_type": "code",
   "execution_count": null,
   "id": "2f6682f0",
   "metadata": {},
   "outputs": [],
   "source": []
  },
  {
   "cell_type": "markdown",
   "id": "3349688d",
   "metadata": {},
   "source": []
  },
  {
   "cell_type": "code",
   "execution_count": 3,
   "id": "81e357c4",
   "metadata": {},
   "outputs": [
    {
     "name": "stdout",
     "output_type": "stream",
     "text": [
      "<bound method Series.info of Zerobase                   [1, 2, 3, 4]\n",
      "twozero base           [10, 20, 30, 40]\n",
      "three zero base    [100, 200, 300, 400]\n",
      "dtype: object>\n"
     ]
    }
   ],
   "source": [
    "value=[[1,2,3,4],[10,20,30,40],[100,200,300,400]]\n",
    "index=['Zerobase','twozero base','three zero base']\n",
    "\n",
    "Series1=pd.Series(data=value,index=index)\n",
    "print(Series1.info)"
   ]
  },
  {
   "cell_type": "code",
   "execution_count": 4,
   "id": "d97e3825",
   "metadata": {},
   "outputs": [
    {
     "name": "stdout",
     "output_type": "stream",
     "text": [
      "[{'abc', 'DEBAJIT SAMANTA'} {'Kolkata', 'Nandigram'}]\n",
      "Index(['name', 'Place'], dtype='object')\n",
      "(2,)\n",
      "<bound method NDFrame.describe of name     {abc, DEBAJIT SAMANTA}\n",
      "Place      {Kolkata, Nandigram}\n",
      "dtype: object>\n"
     ]
    }
   ],
   "source": [
    "# using dict\n",
    "dict={'name':{'DEBAJIT SAMANTA','abc'},'Place':{'Nandigram','Kolkata'}}\n",
    "# print(dict)\n",
    "\n",
    "Series2=pd.Series(dict)\n",
    "print(Series2.values)\n",
    "print(Series2.index)\n",
    "\n",
    "print(Series2.shape)\n",
    "print(Series2.describe)"
   ]
  },
  {
   "cell_type": "markdown",
   "id": "e3159ce4",
   "metadata": {},
   "source": []
  },
  {
   "cell_type": "code",
   "execution_count": 5,
   "id": "26148502",
   "metadata": {},
   "outputs": [
    {
     "name": "stdout",
     "output_type": "stream",
     "text": [
      "Index(['Zerobase', 'twozero base', 'three zero base'], dtype='object')\n",
      "[list([1, 2, 3, 4]) list([10, 20, 30, 40]) list([100, 200, 300, 400])]\n",
      "2\n",
      "2\n"
     ]
    },
    {
     "name": "stderr",
     "output_type": "stream",
     "text": [
      "/tmp/ipykernel_1174/1789973228.py:5: FutureWarning: Series.__getitem__ treating keys as positions is deprecated. In a future version, integer keys will always be treated as labels (consistent with DataFrame behavior). To access a value by position, use `ser.iloc[pos]`\n",
      "  print(Series1[0][1])\n"
     ]
    }
   ],
   "source": [
    "print(Series1.index)\n",
    "print(Series1.values)\n",
    "\n",
    "print(Series1['Zerobase'][1])\n",
    "print(Series1[0][1])"
   ]
  },
  {
   "cell_type": "markdown",
   "id": "b3a9f4b4",
   "metadata": {},
   "source": [
    "Data Frame "
   ]
  },
  {
   "cell_type": "code",
   "execution_count": 6,
   "id": "e550a80d",
   "metadata": {},
   "outputs": [
    {
     "name": "stdout",
     "output_type": "stream",
     "text": [
      "          col1  col2  col3  col4\n",
      "1s value     1     2     3     4\n",
      "2s Value    10    20    30    40\n",
      "3s value   100   200   300   400\n",
      "Index(['1s value', '2s Value', '3s value'], dtype='object')\n",
      "[[  1   2   3   4]\n",
      " [ 10  20  30  40]\n",
      " [100 200 300 400]]\n",
      "(3, 4)\n"
     ]
    }
   ],
   "source": [
    "# df=pd.DataFrame([[1,2,3,4],\n",
    "#                 [10,20,30,40],\n",
    "#                 [100,200,300,400]])\n",
    "df=pd.DataFrame([[1,2,3,4],\n",
    "                [10,20,30,40],\n",
    "                [100,200,300,400]],\n",
    "                index=['1s value','2s Value','3s value'],\n",
    "                columns=['col1','col2','col3','col4'])\n",
    "\n",
    "print(df)\n",
    "\n",
    "print(df.index)\n",
    "print(df.values)\n",
    "\n",
    "print(df.shape)"
   ]
  },
  {
   "cell_type": "markdown",
   "id": "1b3c44e2",
   "metadata": {},
   "source": [
    "project task "
   ]
  },
  {
   "cell_type": "code",
   "execution_count": 7,
   "id": "9ab45035",
   "metadata": {},
   "outputs": [],
   "source": [
    "weather_df=pd.read_csv(\"weather_2012.csv\")"
   ]
  },
  {
   "cell_type": "code",
   "execution_count": 8,
   "id": "7e3cc107",
   "metadata": {},
   "outputs": [
    {
     "name": "stdout",
     "output_type": "stream",
     "text": [
      "<class 'pandas.core.frame.DataFrame'>\n",
      "RangeIndex: 8784 entries, 0 to 8783\n",
      "Data columns (total 8 columns):\n",
      " #   Column              Non-Null Count  Dtype  \n",
      "---  ------              --------------  -----  \n",
      " 0   Date/Time           8784 non-null   object \n",
      " 1   Temp (C)            8784 non-null   float64\n",
      " 2   Dew Point Temp (C)  8784 non-null   float64\n",
      " 3   Rel Hum (%)         8784 non-null   int64  \n",
      " 4   Wind Spd (km/h)     8784 non-null   int64  \n",
      " 5   Visibility (km)     8784 non-null   float64\n",
      " 6   Stn Press (kPa)     8784 non-null   float64\n",
      " 7   Weather             8784 non-null   object \n",
      "dtypes: float64(4), int64(2), object(2)\n",
      "memory usage: 549.1+ KB\n",
      "None\n"
     ]
    }
   ],
   "source": [
    "# print(weather_df.shape)\n",
    "# print(weather_df.columns)\n",
    "# print(weather_df.info)\n",
    "# print(weather_df.index)\n",
    "# print(weather_df.tail(10))\n",
    "\n",
    "print(weather_df.info())\n"
   ]
  },
  {
   "cell_type": "code",
   "execution_count": 9,
   "id": "58552426",
   "metadata": {},
   "outputs": [
    {
     "name": "stdout",
     "output_type": "stream",
     "text": [
      "0     4\n",
      "1     4\n",
      "2     7\n",
      "3     6\n",
      "4     7\n",
      "5     9\n",
      "6     7\n",
      "7     7\n",
      "8     9\n",
      "9    15\n",
      "Name: Wind Spd (km/h), dtype: int64\n"
     ]
    }
   ],
   "source": [
    "print(weather_df['Wind Spd (km/h)'].head(10))"
   ]
  },
  {
   "cell_type": "code",
   "execution_count": 10,
   "id": "c431c7d8",
   "metadata": {},
   "outputs": [
    {
     "name": "stdout",
     "output_type": "stream",
     "text": [
      "<class 'pandas.core.series.Series'>\n"
     ]
    }
   ],
   "source": [
    "print(type(weather_df['Weather']))"
   ]
  },
  {
   "cell_type": "code",
   "execution_count": 11,
   "id": "06573f99",
   "metadata": {},
   "outputs": [
    {
     "name": "stdout",
     "output_type": "stream",
     "text": [
      "<class 'pandas.core.frame.DataFrame'>\n",
      "RangeIndex: 8784 entries, 0 to 8783\n",
      "Data columns (total 8 columns):\n",
      " #   Column              Non-Null Count  Dtype  \n",
      "---  ------              --------------  -----  \n",
      " 0   Date/Time           8784 non-null   object \n",
      " 1   Temp (C)            8784 non-null   float64\n",
      " 2   Dew Point Temp (C)  8784 non-null   float64\n",
      " 3   Rel Hum (%)         8784 non-null   int64  \n",
      " 4   Wind Spd (km/h)     8784 non-null   int64  \n",
      " 5   Visibility (km)     8784 non-null   float64\n",
      " 6   Stn Press (kPa)     8784 non-null   float64\n",
      " 7   Weather             8784 non-null   object \n",
      "dtypes: float64(4), int64(2), object(2)\n",
      "memory usage: 549.1+ KB\n"
     ]
    }
   ],
   "source": [
    "weather_df.info()"
   ]
  },
  {
   "cell_type": "code",
   "execution_count": 15,
   "id": "b541de2a",
   "metadata": {},
   "outputs": [],
   "source": [
    "weather_df['Date/Time']=pd.to_datetime(weather_df['Date/Time'],errors='coerce')"
   ]
  },
  {
   "cell_type": "code",
   "execution_count": 17,
   "id": "3ce47707",
   "metadata": {},
   "outputs": [
    {
     "name": "stdout",
     "output_type": "stream",
     "text": [
      "<class 'pandas.core.frame.DataFrame'>\n",
      "RangeIndex: 8784 entries, 0 to 8783\n",
      "Data columns (total 8 columns):\n",
      " #   Column              Non-Null Count  Dtype         \n",
      "---  ------              --------------  -----         \n",
      " 0   Date/Time           8784 non-null   datetime64[ns]\n",
      " 1   Temp (C)            8784 non-null   float64       \n",
      " 2   Dew Point Temp (C)  8784 non-null   float64       \n",
      " 3   Rel Hum (%)         8784 non-null   int64         \n",
      " 4   Wind Spd (km/h)     8784 non-null   int64         \n",
      " 5   Visibility (km)     8784 non-null   float64       \n",
      " 6   Stn Press (kPa)     8784 non-null   float64       \n",
      " 7   Weather             8784 non-null   object        \n",
      "dtypes: datetime64[ns](1), float64(4), int64(2), object(1)\n",
      "memory usage: 549.1+ KB\n",
      "<class 'pandas.core.series.Series'>\n"
     ]
    }
   ],
   "source": [
    "weather_df.info()\n",
    "print(type(weather_df['Date/Time']))"
   ]
  },
  {
   "cell_type": "code",
   "execution_count": 18,
   "id": "64284ed5",
   "metadata": {},
   "outputs": [
    {
     "name": "stdout",
     "output_type": "stream",
     "text": [
      "['Fog' 'Freezing Drizzle,Fog' 'Mostly Cloudy' 'Cloudy' 'Rain'\n",
      " 'Rain Showers' 'Mainly Clear' 'Snow Showers' 'Snow' 'Clear'\n",
      " 'Freezing Rain,Fog' 'Freezing Rain' 'Freezing Drizzle' 'Rain,Snow'\n",
      " 'Moderate Snow' 'Freezing Drizzle,Snow' 'Freezing Rain,Snow Grains'\n",
      " 'Snow,Blowing Snow' 'Freezing Fog' 'Haze' 'Rain,Fog' 'Drizzle,Fog'\n",
      " 'Drizzle' 'Freezing Drizzle,Haze' 'Freezing Rain,Haze' 'Snow,Haze'\n",
      " 'Snow,Fog' 'Snow,Ice Pellets' 'Rain,Haze' 'Thunderstorms,Rain'\n",
      " 'Thunderstorms,Rain Showers' 'Thunderstorms,Heavy Rain Showers'\n",
      " 'Thunderstorms,Rain Showers,Fog' 'Thunderstorms' 'Thunderstorms,Rain,Fog'\n",
      " 'Thunderstorms,Moderate Rain Showers,Fog' 'Rain Showers,Fog'\n",
      " 'Rain Showers,Snow Showers' 'Snow Pellets' 'Rain,Snow,Fog'\n",
      " 'Moderate Rain,Fog' 'Freezing Rain,Ice Pellets,Fog'\n",
      " 'Drizzle,Ice Pellets,Fog' 'Drizzle,Snow' 'Rain,Ice Pellets'\n",
      " 'Drizzle,Snow,Fog' 'Rain,Snow Grains' 'Rain,Snow,Ice Pellets'\n",
      " 'Snow Showers,Fog' 'Moderate Snow,Blowing Snow']\n"
     ]
    }
   ],
   "source": [
    "# print unique values \n",
    "\n",
    "print(weather_df['Weather'].unique())"
   ]
  },
  {
   "cell_type": "code",
   "execution_count": 21,
   "id": "f6697665",
   "metadata": {},
   "outputs": [
    {
     "data": {
      "text/plain": [
       "array([ 4,  7,  6,  9, 15, 13, 20, 22, 19, 24, 30, 35, 39, 32, 33, 26, 44,\n",
       "       43, 48, 37, 28, 17, 11,  0, 83, 70, 57, 46, 41, 52, 50, 63, 54,  2])"
      ]
     },
     "execution_count": 21,
     "metadata": {},
     "output_type": "execute_result"
    }
   ],
   "source": [
    "weather_df['Wind Spd (km/h)'].unique()"
   ]
  },
  {
   "cell_type": "code",
   "execution_count": 37,
   "id": "3fdfd608",
   "metadata": {},
   "outputs": [
    {
     "name": "stdout",
     "output_type": "stream",
     "text": [
      "               Date/Time  Temp (C)  Dew Point Temp (C)  Rel Hum (%)  \\\n",
      "0    2012-01-01 00:00:00      -1.8                -3.9           86   \n",
      "1    2012-01-01 01:00:00      -1.8                -3.7           87   \n",
      "2    2012-01-01 02:00:00      -1.8                -3.4           89   \n",
      "3    2012-01-01 03:00:00      -1.5                -3.2           88   \n",
      "4    2012-01-01 04:00:00      -1.5                -3.3           88   \n",
      "...                  ...       ...                 ...          ...   \n",
      "8779 2012-12-31 19:00:00       0.1                -2.7           81   \n",
      "8780 2012-12-31 20:00:00       0.2                -2.4           83   \n",
      "8781 2012-12-31 21:00:00      -0.5                -1.5           93   \n",
      "8782 2012-12-31 22:00:00      -0.2                -1.8           89   \n",
      "8783 2012-12-31 23:00:00       0.0                -2.1           86   \n",
      "\n",
      "      Wind Spd (km/h)  Visibility (km)  Stn Press (kPa)               Weather  \n",
      "0                   4              8.0           101.24                   Fog  \n",
      "1                   4              8.0           101.24                   Fog  \n",
      "2                   7              4.0           101.26  Freezing Drizzle,Fog  \n",
      "3                   6              4.0           101.27  Freezing Drizzle,Fog  \n",
      "4                   7              4.8           101.23                   Fog  \n",
      "...               ...              ...              ...                   ...  \n",
      "8779               30              9.7           100.13                  Snow  \n",
      "8780               24              9.7           100.03                  Snow  \n",
      "8781               28              4.8            99.95                  Snow  \n",
      "8782               28              9.7            99.91                  Snow  \n",
      "8783               30             11.3            99.89                  Snow  \n",
      "\n",
      "[8784 rows x 8 columns]\n"
     ]
    }
   ],
   "source": [
    "# weather_df['Wind Spd (km/h)'].nunique()\n",
    "# print(len(weather_df['Wind Spd (km/h)'].unique()))\n",
    "print(weather_df)"
   ]
  },
  {
   "cell_type": "code",
   "execution_count": null,
   "id": "a9cfb2aa",
   "metadata": {},
   "outputs": [],
   "source": []
  },
  {
   "cell_type": "code",
   "execution_count": null,
   "id": "88a8d1bf",
   "metadata": {},
   "outputs": [
    {
     "name": "stdout",
     "output_type": "stream",
     "text": [
      "Weather\n",
      "Mainly Clear                               2106\n",
      "Mostly Cloudy                              2069\n",
      "Cloudy                                     1728\n",
      "Clear                                      1326\n",
      "Snow                                        390\n",
      "Rain                                        306\n",
      "Rain Showers                                188\n",
      "Fog                                         150\n",
      "Rain,Fog                                    116\n",
      "Drizzle,Fog                                  80\n",
      "Snow Showers                                 60\n",
      "Drizzle                                      41\n",
      "Snow,Fog                                     37\n",
      "Snow,Blowing Snow                            19\n",
      "Rain,Snow                                    18\n",
      "Thunderstorms,Rain Showers                   16\n",
      "Haze                                         16\n",
      "Drizzle,Snow,Fog                             15\n",
      "Freezing Rain                                14\n",
      "Freezing Drizzle,Snow                        11\n",
      "Freezing Drizzle                              7\n",
      "Freezing Drizzle,Fog                          6\n",
      "Snow,Ice Pellets                              6\n",
      "Snow,Haze                                     5\n",
      "Freezing Rain,Fog                             4\n",
      "Moderate Snow                                 4\n",
      "Rain,Snow,Ice Pellets                         4\n",
      "Freezing Fog                                  4\n",
      "Snow Showers,Fog                              4\n",
      "Thunderstorms,Rain Showers,Fog                3\n",
      "Thunderstorms,Rain                            3\n",
      "Freezing Drizzle,Haze                         3\n",
      "Rain,Haze                                     3\n",
      "Drizzle,Snow                                  2\n",
      "Moderate Snow,Blowing Snow                    2\n",
      "Thunderstorms                                 2\n",
      "Freezing Rain,Haze                            2\n",
      "Rain Showers,Snow Showers                     2\n",
      "Freezing Rain,Snow Grains                     1\n",
      "Thunderstorms,Heavy Rain Showers              1\n",
      "Thunderstorms,Moderate Rain Showers,Fog       1\n",
      "Thunderstorms,Rain,Fog                        1\n",
      "Freezing Rain,Ice Pellets,Fog                 1\n",
      "Moderate Rain,Fog                             1\n",
      "Rain,Snow,Fog                                 1\n",
      "Snow Pellets                                  1\n",
      "Rain Showers,Fog                              1\n",
      "Drizzle,Ice Pellets,Fog                       1\n",
      "Rain,Ice Pellets                              1\n",
      "Rain,Snow Grains                              1\n",
      "Name: count, dtype: int64\n"
     ]
    }
   ],
   "source": [
    "# print(weather_df['Weather'].head())\n",
    "# print(weather_df['Weather'].value_counts())\n",
    "# weather_df['Weather'].value_counts() → \n",
    "# This counts how many times each unique weather condition appears\n",
    "#  and returns a sorted list.\n",
    "\n",
    "# [2] → This selects the third most frequent weather condition.\n",
    "print(weather_df['Weather'].value_counts())\n",
    "print(weather_df['Weather'].value_counts()[0])\n",
    "# measn from value_counts() 1st sorted "
   ]
  },
  {
   "cell_type": "code",
   "execution_count": 41,
   "id": "cac5d55e",
   "metadata": {},
   "outputs": [
    {
     "name": "stdout",
     "output_type": "stream",
     "text": [
      "1326\n",
      "Not available\n",
      "474\n"
     ]
    }
   ],
   "source": [
    "print(weather_df['Weather'].value_counts().get('Clear','Not available'))\n",
    "print(weather_df['Weather'].value_counts().get('clear','Not available'))\n",
    "# 2nd one cause c is small \n",
    "\n",
    "\n",
    "print(weather_df['Wind Spd (km/h)'].value_counts().get(4,\"No 4KM/hr Spped is their \"))"
   ]
  }
 ],
 "metadata": {
  "kernelspec": {
   "display_name": "Python 3",
   "language": "python",
   "name": "python3"
  },
  "language_info": {
   "codemirror_mode": {
    "name": "ipython",
    "version": 3
   },
   "file_extension": ".py",
   "mimetype": "text/x-python",
   "name": "python",
   "nbconvert_exporter": "python",
   "pygments_lexer": "ipython3",
   "version": "3.12.1"
  }
 },
 "nbformat": 4,
 "nbformat_minor": 5
}
