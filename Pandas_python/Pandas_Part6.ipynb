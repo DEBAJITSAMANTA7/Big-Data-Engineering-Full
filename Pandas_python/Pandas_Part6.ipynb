{
 "cells": [
  {
   "cell_type": "code",
   "execution_count": 2,
   "id": "af618438",
   "metadata": {},
   "outputs": [],
   "source": [
    "import pandas as pd\n",
    "import numpy as np\n",
    "weather_df=pd.read_csv(\"weather_2012.csv\")"
   ]
  },
  {
   "cell_type": "markdown",
   "id": "71ac0201",
   "metadata": {},
   "source": [
    "Date and Time Mainly \n",
    "# Object means if any data is not specified to int or char str etc. then it need to be object \n"
   ]
  },
  {
   "cell_type": "code",
   "execution_count": 3,
   "id": "45bf3a42",
   "metadata": {},
   "outputs": [
    {
     "name": "stdout",
     "output_type": "stream",
     "text": [
      "         Date  Value\n",
      "0  2025-08-04      2\n",
      "1  2021-09-04      3\n",
      "2  2025-08-08      4 \n",
      "\n",
      "<class 'pandas.core.frame.DataFrame'>\n",
      "RangeIndex: 3 entries, 0 to 2\n",
      "Data columns (total 2 columns):\n",
      " #   Column  Non-Null Count  Dtype \n",
      "---  ------  --------------  ----- \n",
      " 0   Date    3 non-null      object\n",
      " 1   Value   3 non-null      int64 \n",
      "dtypes: int64(1), object(1)\n",
      "memory usage: 180.0+ bytes\n",
      "None\n"
     ]
    }
   ],
   "source": [
    "# Convert String to Date and Time \n",
    "df =pd.DataFrame({'Date':['2025-08-04','2021-09-04','2025-08-08'],\n",
    "                  'Value':[2,3,4]\n",
    "                  })\n",
    "print(df,\"\\n\")\n",
    "print(df.info())\n",
    "\n",
    "# Now if you see here Data Clumn is a Object column so we should convert this in date time format\n",
    "# Object means if any data is not specified to int or char str etc. then it need to be object "
   ]
  },
  {
   "cell_type": "code",
   "execution_count": null,
   "id": "6d034bd5",
   "metadata": {},
   "outputs": [],
   "source": []
  },
  {
   "cell_type": "code",
   "execution_count": 4,
   "id": "f89430f5",
   "metadata": {},
   "outputs": [
    {
     "name": "stdout",
     "output_type": "stream",
     "text": [
      "<class 'pandas.core.frame.DataFrame'>\n",
      "RangeIndex: 3 entries, 0 to 2\n",
      "Data columns (total 2 columns):\n",
      " #   Column  Non-Null Count  Dtype         \n",
      "---  ------  --------------  -----         \n",
      " 0   Date    3 non-null      datetime64[ns]\n",
      " 1   Value   3 non-null      int64         \n",
      "dtypes: datetime64[ns](1), int64(1)\n",
      "memory usage: 180.0 bytes\n",
      "None\n"
     ]
    }
   ],
   "source": [
    "# df['Date']=pd.to_datetime(df['Date']) Data Should be in YYYY-MM-DD format otherwise need to use ,df['col1'], error='coerce'\n",
    "# df['Date']=pd.to_datetime(df['Date'],errors='coerce')\n",
    "df['Date']=pd.to_datetime(df['Date'])\n",
    "print(df.info())"
   ]
  },
  {
   "cell_type": "code",
   "execution_count": 9,
   "id": "46c25bdc",
   "metadata": {},
   "outputs": [
    {
     "name": "stdout",
     "output_type": "stream",
     "text": [
      "<class 'pandas.core.frame.DataFrame'>\n",
      "RangeIndex: 2 entries, 0 to 1\n",
      "Data columns (total 2 columns):\n",
      " #   Column  Non-Null Count  Dtype \n",
      "---  ------  --------------  ----- \n",
      " 0   Name    2 non-null      object\n",
      " 1   DOB     2 non-null      object\n",
      "dtypes: object(2)\n",
      "memory usage: 164.0+ bytes\n",
      "None\n",
      "      Name        DOB\n",
      "0  Debajit 2001-11-06\n",
      "1    Subha        NaT\n",
      "<class 'pandas.core.frame.DataFrame'>\n",
      "RangeIndex: 2 entries, 0 to 1\n",
      "Data columns (total 2 columns):\n",
      " #   Column  Non-Null Count  Dtype         \n",
      "---  ------  --------------  -----         \n",
      " 0   Name    2 non-null      object        \n",
      " 1   DOB     1 non-null      datetime64[ns]\n",
      "dtypes: datetime64[ns](1), object(1)\n",
      "memory usage: 164.0+ bytes\n",
      "None\n"
     ]
    }
   ],
   "source": [
    "#  dummy Test\n",
    "df1=pd.DataFrame({'Name':['Debajit','Subha'],'DOB':['2001-11-06','10-2002-27']})\n",
    "print(df1.info())\n",
    "\n",
    "df1['DOB']=pd.to_datetime(df1['DOB'],errors='coerce')\n",
    "print(df1)\n",
    "print(df1.info())"
   ]
  },
  {
   "cell_type": "code",
   "execution_count": 12,
   "id": "d2a7b3ec",
   "metadata": {},
   "outputs": [
    {
     "name": "stdout",
     "output_type": "stream",
     "text": [
      "0    2001.0\n",
      "1       NaN\n",
      "Name: DOB, dtype: float64\n",
      "0    11.0\n",
      "1     NaN\n",
      "Name: DOB, dtype: float64\n"
     ]
    }
   ],
   "source": [
    "# For a Specific Date or month or YYYY how i will get from the data frame \n",
    "print(df1['DOB'].dt.year)\n",
    "print(df1['DOB'].dt.month)"
   ]
  },
  {
   "cell_type": "code",
   "execution_count": null,
   "id": "cb32cb47",
   "metadata": {},
   "outputs": [
    {
     "name": "stdout",
     "output_type": "stream",
     "text": [
      "   Index          User Id First Name Last Name     Sex  \\\n",
      "0      1  88F7B33d2bcf9f5     Shelby   Terrell    Male   \n",
      "1      2  f90cD3E76f1A9b9    Phillip   Summers  Female   \n",
      "2      3  DbeAb8CcdfeFC2c   Kristine    Travis    Male   \n",
      "3      4  A31Bee3c201ef58    Yesenia  Martinez    Male   \n",
      "4      5  1bA7A3dc874da3c       Lori      Todd    Male   \n",
      "5      6  bfDD7CDEF5D865B       Erin       Day    Male   \n",
      "6      7  bE9EEf34cB72AF7  Katherine      Buck  Female   \n",
      "7      8  2EFC6A4e77FaEaC    Ricardo    Hinton    Male   \n",
      "8      9  baDcC4DeefD8dEB       Dave   Farrell    Male   \n",
      "9     10  8e4FB470FE19bF0     Isaiah     Downs    Male   \n",
      "\n",
      "                         Email                   Phone Date of birth  \\\n",
      "0         elijah57@example.net  001-084-906-7849x73518    1945-10-26   \n",
      "1        bethany14@example.com       214.112.6044x4913    1910-03-24   \n",
      "2        bthompson@example.com            277.609.7938    1992-07-02   \n",
      "3    kaitlinkaiser@example.com            584.094.6111    2017-08-03   \n",
      "4   buchananmanuel@example.net       689-207-3558x7233    1938-12-01   \n",
      "5          tconner@example.org   001-171-649-9856x5553    2015-10-28   \n",
      "6      conniecowan@example.com   +1-773-151-6685x49162    1989-01-22   \n",
      "7      wyattbishop@example.com  001-447-699-7998x88612    1924-03-26   \n",
      "8          nmccann@example.net      603-428-2429x27392    2018-10-06   \n",
      "9  virginiaterrell@example.org    +1-511-372-1544x8206    1964-09-20   \n",
      "\n",
      "                  Job Title  \n",
      "0           Games developer  \n",
      "1            Phytotherapist  \n",
      "2                 Homeopath  \n",
      "3         Market researcher  \n",
      "4        Veterinary surgeon  \n",
      "5  Waste management officer  \n",
      "6      Intelligence analyst  \n",
      "7            Hydrogeologist  \n",
      "8                    Lawyer  \n",
      "9            Engineer, site  \n",
      "<class 'pandas.core.frame.DataFrame'>\n",
      "RangeIndex: 100 entries, 0 to 99\n",
      "Data columns (total 9 columns):\n",
      " #   Column         Non-Null Count  Dtype         \n",
      "---  ------         --------------  -----         \n",
      " 0   Index          100 non-null    int64         \n",
      " 1   User Id        100 non-null    object        \n",
      " 2   First Name     100 non-null    object        \n",
      " 3   Last Name      100 non-null    object        \n",
      " 4   Sex            100 non-null    object        \n",
      " 5   Email          100 non-null    object        \n",
      " 6   Phone          100 non-null    object        \n",
      " 7   Date of birth  100 non-null    datetime64[ns]\n",
      " 8   Job Title      100 non-null    object        \n",
      "dtypes: datetime64[ns](1), int64(1), object(7)\n",
      "memory usage: 7.2+ KB\n",
      "None\n"
     ]
    }
   ],
   "source": [
    "people_data=pd.read_csv(\"people-100.csv\",parse_dates=['Date of birth'])\n",
    "# print(people_data.head(10))\n",
    "# print(people_data.info()) # -- here Date of Birth is Date and time col not object \n",
    "#  \n",
    "\n",
    "# Using parse_dates=['DOB Col Name'] we defined during read of the CSV"
   ]
  }
 ],
 "metadata": {
  "kernelspec": {
   "display_name": "Python 3",
   "language": "python",
   "name": "python3"
  },
  "language_info": {
   "codemirror_mode": {
    "name": "ipython",
    "version": 3
   },
   "file_extension": ".py",
   "mimetype": "text/x-python",
   "name": "python",
   "nbconvert_exporter": "python",
   "pygments_lexer": "ipython3",
   "version": "3.13.5"
  }
 },
 "nbformat": 4,
 "nbformat_minor": 5
}
